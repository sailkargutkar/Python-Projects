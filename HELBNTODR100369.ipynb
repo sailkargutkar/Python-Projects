{
  "nbformat": 4,
  "nbformat_minor": 0,
  "metadata": {
    "colab": {
      "name": "HELBNTODR100369.ipynb",
      "provenance": [],
      "machine_shape": "hm",
      "include_colab_link": true
    },
    "kernelspec": {
      "name": "python3",
      "display_name": "Python 3"
    }
  },
  "cells": [
    {
      "cell_type": "markdown",
      "metadata": {
        "id": "view-in-github",
        "colab_type": "text"
      },
      "source": [
        "<a href=\"https://colab.research.google.com/github/sailkargutkar/Python-Projects/blob/HELBNTODR100369/HELBNTODR100369.ipynb\" target=\"_parent\"><img src=\"https://colab.research.google.com/assets/colab-badge.svg\" alt=\"Open In Colab\"/></a>"
      ]
    },
    {
      "cell_type": "code",
      "metadata": {
        "id": "ETnvMsxWW2-_",
        "colab_type": "code",
        "colab": {
          "base_uri": "https://localhost:8080/",
          "height": 322
        },
        "outputId": "046aa54f-b9b1-4a91-c514-a3c3a2200232"
      },
      "source": [
        "!pip install scattertext"
      ],
      "execution_count": null,
      "outputs": [
        {
          "output_type": "stream",
          "text": [
            "Collecting scattertext\n",
            "\u001b[?25l  Downloading https://files.pythonhosted.org/packages/1c/80/db3ecd7d594aec7f3bb35382f9c726d490e3f3bbaca3100d90d29ebf2e40/scattertext-0.0.2.66-py3-none-any.whl (7.2MB)\n",
            "\u001b[K     |████████████████████████████████| 7.2MB 7.8MB/s \n",
            "\u001b[?25hCollecting mock\n",
            "  Downloading https://files.pythonhosted.org/packages/cd/74/d72daf8dff5b6566db857cfd088907bb0355f5dd2914c4b3ef065c790735/mock-4.0.2-py3-none-any.whl\n",
            "Requirement already satisfied: pandas in /usr/local/lib/python3.6/dist-packages (from scattertext) (1.0.5)\n",
            "Requirement already satisfied: numpy in /usr/local/lib/python3.6/dist-packages (from scattertext) (1.18.5)\n",
            "Requirement already satisfied: six in /usr/local/lib/python3.6/dist-packages (from scattertext) (1.12.0)\n",
            "Requirement already satisfied: scipy in /usr/local/lib/python3.6/dist-packages (from scattertext) (1.4.1)\n",
            "Requirement already satisfied: scikit-learn in /usr/local/lib/python3.6/dist-packages (from scattertext) (0.22.2.post1)\n",
            "Requirement already satisfied: statsmodels in /usr/local/lib/python3.6/dist-packages (from scattertext) (0.10.2)\n",
            "Requirement already satisfied: python-dateutil>=2.6.1 in /usr/local/lib/python3.6/dist-packages (from pandas->scattertext) (2.8.1)\n",
            "Requirement already satisfied: pytz>=2017.2 in /usr/local/lib/python3.6/dist-packages (from pandas->scattertext) (2018.9)\n",
            "Requirement already satisfied: joblib>=0.11 in /usr/local/lib/python3.6/dist-packages (from scikit-learn->scattertext) (0.16.0)\n",
            "Requirement already satisfied: patsy>=0.4.0 in /usr/local/lib/python3.6/dist-packages (from statsmodels->scattertext) (0.5.1)\n",
            "Installing collected packages: mock, scattertext\n",
            "Successfully installed mock-4.0.2 scattertext-0.0.2.66\n"
          ],
          "name": "stdout"
        }
      ]
    },
    {
      "cell_type": "code",
      "metadata": {
        "id": "DLFtqMZP4LTr",
        "colab_type": "code",
        "colab": {
          "base_uri": "https://localhost:8080/",
          "height": 255
        },
        "outputId": "11741b28-5270-480e-a5ba-e7d83e3623b4"
      },
      "source": [
        "!pip install \"git+https://github.com/facebookresearch/fastText.git\""
      ],
      "execution_count": null,
      "outputs": [
        {
          "output_type": "stream",
          "text": [
            "Collecting git+https://github.com/facebookresearch/fastText.git\n",
            "  Cloning https://github.com/facebookresearch/fastText.git to /tmp/pip-req-build-oj7at3o2\n",
            "  Running command git clone -q https://github.com/facebookresearch/fastText.git /tmp/pip-req-build-oj7at3o2\n",
            "Requirement already satisfied: pybind11>=2.2 in /usr/local/lib/python3.6/dist-packages (from fasttext==0.9.2) (2.5.0)\n",
            "Requirement already satisfied: setuptools>=0.7.0 in /usr/local/lib/python3.6/dist-packages (from fasttext==0.9.2) (49.1.0)\n",
            "Requirement already satisfied: numpy in /usr/local/lib/python3.6/dist-packages (from fasttext==0.9.2) (1.18.5)\n",
            "Building wheels for collected packages: fasttext\n",
            "  Building wheel for fasttext (setup.py) ... \u001b[?25l\u001b[?25hdone\n",
            "  Created wheel for fasttext: filename=fasttext-0.9.2-cp36-cp36m-linux_x86_64.whl size=3012536 sha256=6b22444a88b53529a0893189bba3911db728750ea8d5c30bef5b22b47445bc79\n",
            "  Stored in directory: /tmp/pip-ephem-wheel-cache-lwzslowf/wheels/69/f8/19/7f0ab407c078795bc9f86e1f6381349254f86fd7d229902355\n",
            "Successfully built fasttext\n",
            "Installing collected packages: fasttext\n",
            "Successfully installed fasttext-0.9.2\n"
          ],
          "name": "stdout"
        }
      ]
    },
    {
      "cell_type": "markdown",
      "metadata": {
        "id": "-K_qm9qaXGM_",
        "colab_type": "text"
      },
      "source": [
        "Install all necessary packages"
      ]
    },
    {
      "cell_type": "code",
      "metadata": {
        "id": "G9Hmw7ETW_af",
        "colab_type": "code",
        "colab": {
          "base_uri": "https://localhost:8080/",
          "height": 134
        },
        "outputId": "4fc69338-deab-449e-d4cc-d53b02e75f77"
      },
      "source": [
        "import fasttext.util\n",
        "import numpy as np\n",
        "import pandas as pd\n",
        "import re\n",
        "import scattertext as st\n",
        "import spacy\n",
        "import nltk\n",
        "\n",
        "from keras import layers\n",
        "from keras.layers import Dropout \n",
        "from keras.models import Sequential\n",
        "from keras.preprocessing.text import text_to_word_sequence\n",
        "from keras.preprocessing.text import Tokenizer\n",
        "from keras.utils import to_categorical\n",
        "from scattertext import CorpusFromPandas, produce_scattertext_explorer\n",
        "from sklearn.model_selection import train_test_split\n",
        "\n",
        "\n",
        "nltk.download('punkt')\n",
        "nltk.download('stopwords')\n",
        "nltk.download('wordnet')"
      ],
      "execution_count": null,
      "outputs": [
        {
          "output_type": "stream",
          "text": [
            "[nltk_data] Downloading package punkt to /root/nltk_data...\n",
            "[nltk_data]   Unzipping tokenizers/punkt.zip.\n",
            "[nltk_data] Downloading package stopwords to /root/nltk_data...\n",
            "[nltk_data]   Unzipping corpora/stopwords.zip.\n",
            "[nltk_data] Downloading package wordnet to /root/nltk_data...\n",
            "[nltk_data]   Unzipping corpora/wordnet.zip.\n"
          ],
          "name": "stdout"
        },
        {
          "output_type": "execute_result",
          "data": {
            "text/plain": [
              "True"
            ]
          },
          "metadata": {
            "tags": []
          },
          "execution_count": 56
        }
      ]
    },
    {
      "cell_type": "markdown",
      "metadata": {
        "id": "J5lT_VeNXUZ4",
        "colab_type": "text"
      },
      "source": [
        "Read in data and look at first item"
      ]
    },
    {
      "cell_type": "code",
      "metadata": {
        "id": "WBNz2bCXW_68",
        "colab_type": "code",
        "colab": {
          "base_uri": "https://localhost:8080/",
          "height": 84
        },
        "outputId": "885c317e-6f2b-4434-d8ca-f776553f6e32"
      },
      "source": [
        "df = pd.read_csv('/content/agr_en_train.csv', names=['unique_id','text','aggression-level'], sep=',')\n",
        "print(df.iloc[0])"
      ],
      "execution_count": null,
      "outputs": [
        {
          "output_type": "stream",
          "text": [
            "unique_id                                 facebook_corpus_msr_1723796\n",
            "text                Well said sonu..you have courage to stand agai...\n",
            "aggression-level                                                  OAG\n",
            "Name: 0, dtype: object\n"
          ],
          "name": "stdout"
        }
      ]
    },
    {
      "cell_type": "markdown",
      "metadata": {
        "id": "FkedasNbiFdn",
        "colab_type": "text"
      },
      "source": [
        "Check for missing values"
      ]
    },
    {
      "cell_type": "code",
      "metadata": {
        "id": "-RGyKGNhXAXr",
        "colab_type": "code",
        "colab": {
          "base_uri": "https://localhost:8080/",
          "height": 34
        },
        "outputId": "6fad9235-4593-4a7b-e15a-c19b238a0c63"
      },
      "source": [
        "df.isna().values.any()"
      ],
      "execution_count": null,
      "outputs": [
        {
          "output_type": "execute_result",
          "data": {
            "text/plain": [
              "False"
            ]
          },
          "metadata": {
            "tags": []
          },
          "execution_count": 58
        }
      ]
    },
    {
      "cell_type": "markdown",
      "metadata": {
        "id": "K9lH64z_iQR_",
        "colab_type": "text"
      },
      "source": [
        "Count the occurrences per Aggression Level"
      ]
    },
    {
      "cell_type": "code",
      "metadata": {
        "id": "NBKduKwWiJBt",
        "colab_type": "code",
        "colab": {}
      },
      "source": [
        "df['aggression-level'].value_counts() "
      ],
      "execution_count": null,
      "outputs": []
    },
    {
      "cell_type": "markdown",
      "metadata": {
        "id": "noel0cI16RJJ",
        "colab_type": "text"
      },
      "source": [
        "Data pre-processing"
      ]
    },
    {
      "cell_type": "code",
      "metadata": {
        "id": "KcVSU5Xf3YVS",
        "colab_type": "code",
        "colab": {}
      },
      "source": [
        "# Convert to lover case\n",
        "df['text'] = df['text'].str.lower() \n",
        "\n",
        "# Remove all numbers from Text column\n",
        "df['text'] = df['text'].str.replace('\\d+', '')\n",
        "\n",
        "# Remove any type of alphanumeric character from our dataset.\n",
        "df.text.str.replace('[^a-zA-Z0-9]', '')\n",
        "\n",
        "# Remove any commas, dollar symbol, double quotes, single quotes, question mark and single letter from our dataset.\n",
        "\n",
        "# Remove multiple space fromour dataset.\n",
        "df['text'] = df['text'].replace('\\s+', ' ', regex=True)\n",
        "df['text'] = df['text'].str.replace(',', '')\n",
        "df['text'] = df['text'].str.replace('$', '')\n",
        "df['text'] = df['text'].str.replace('\"', '')\n",
        "df['text'] = df['text'].str.replace('?', '')\n",
        "df['text'] = df['text'].str.replace(\"'\", \"\")\n",
        "df['text'] = df['text'].str.replace(r'\\b\\w\\b', '').str.replace(r'\\s+', ' ')\n",
        "df['text'] = df['text'].str.replace(\"/\", \"\")\n",
        "df['text'] = df['text'].str.replace(\"*\", \"\")\n",
        "df['text'] = df['text'].str.replace(\"+\", \"\")\n",
        "df['text'] = df['text'].str.replace(\":\", \"\")\n",
        "df['text'] = df['text'].str.replace(\"(\", \"\")\n",
        "df['text'] = df['text'].str.replace(\")\", \"\")\n",
        "df['text'] = df['text'].str.replace(\"[\", \"\")\n",
        "df['text'] = df['text'].str.replace(\"]\", \"\")\n",
        "\n",
        "# Remove punctuation from our detaset.\n",
        "df['text'] = df['text'].str.replace('[^\\w\\s]','')"
      ],
      "execution_count": null,
      "outputs": []
    },
    {
      "cell_type": "markdown",
      "metadata": {
        "id": "NCA0L0_9iZxJ",
        "colab_type": "text"
      },
      "source": [
        "Identify the top occurring words per Aggression Level"
      ]
    },
    {
      "cell_type": "code",
      "metadata": {
        "id": "theMyQE6iJwz",
        "colab_type": "code",
        "colab": {
          "base_uri": "https://localhost:8080/",
          "height": 370
        },
        "outputId": "a21aa84d-68d9-4ccb-94f5-0931a67b81bb"
      },
      "source": [
        "nlp = spacy.load('en')\n",
        "df['parsed'] = df.text.apply(nlp)\n",
        "data = st.CorpusFromParsedDocuments(df, category_col='aggression-level', \n",
        "                                      parsed_col='parsed').build().remove_terms(nlp.Defaults.stop_words, ignore_absences=True)\n",
        "\n",
        "freq_df = data.get_term_freq_df()\n",
        "oag_tw = freq_df.sort_values(by=['OAG freq'], ascending=False)\n",
        "oag_tw = oag_tw.drop(oag_tw.columns[[1,2]], axis=1)\n",
        "nag_tw = freq_df.sort_values(by=['NAG freq'], ascending=False)\n",
        "nag_tw = nag_tw.drop(nag_tw.columns[[0,2]], axis=1)\n",
        "cag_tw = freq_df.sort_values(by=['CAG freq'], ascending=False)\n",
        "cag_tw = cag_tw.drop(cag_tw.columns[[0,1]], axis=1)\n",
        "\n",
        "print(oag_tw.head())\n",
        "print(nag_tw.head())\n",
        "print(cag_tw.head())"
      ],
      "execution_count": null,
      "outputs": [
        {
          "output_type": "stream",
          "text": [
            "        OAG freq\n",
            "term            \n",
            "u            420\n",
            "india        396\n",
            "people       372\n",
            "like         317\n",
            "indian       279\n",
            "        NAG freq\n",
            "term            \n",
            "india        616\n",
            "people       357\n",
            "good         355\n",
            "indian       350\n",
            "like         315\n",
            "        CAG freq\n",
            "term            \n",
            "people       554\n",
            "india        493\n",
            "u            466\n",
            "bjp          357\n",
            "like         337\n"
          ],
          "name": "stdout"
        }
      ]
    },
    {
      "cell_type": "markdown",
      "metadata": {
        "id": "Sfu4-4Qvsg-s",
        "colab_type": "text"
      },
      "source": [
        "Replace the text labels with values and save as a vector"
      ]
    },
    {
      "cell_type": "code",
      "metadata": {
        "id": "fal8prKFiKR6",
        "colab_type": "code",
        "colab": {}
      },
      "source": [
        "df['aggression-level'] = df['aggression-level'].replace({ 'OAG' : 0, 'NAG' : 1, 'CAG' : 2 }) \n",
        "labels = df['aggression-level'].values\n",
        "labels = to_categorical(labels, num_classes = 3)"
      ],
      "execution_count": null,
      "outputs": []
    },
    {
      "cell_type": "markdown",
      "metadata": {
        "id": "oapR1uNkGpLX",
        "colab_type": "text"
      },
      "source": [
        "Load the fasttext model"
      ]
    },
    {
      "cell_type": "code",
      "metadata": {
        "id": "GW4W9rBzGnJ2",
        "colab_type": "code",
        "colab": {
          "base_uri": "https://localhost:8080/",
          "height": 34
        },
        "outputId": "f0987a7d-95c5-440e-9866-61e7ece028ef"
      },
      "source": [
        "fasttext.util.download_model('en', if_exists='ignore') \n",
        "ft = fasttext.load_model('cc.en.300.bin')"
      ],
      "execution_count": null,
      "outputs": [
        {
          "output_type": "stream",
          "text": [
            "Downloading https://dl.fbaipublicfiles.com/fasttext/vectors-crawl/cc.en.300.bin.gz\n"
          ],
          "name": "stdout"
        }
      ]
    },
    {
      "cell_type": "markdown",
      "metadata": {
        "id": "JaAG2z04K8A9",
        "colab_type": "text"
      },
      "source": [
        "Set the parameters"
      ]
    },
    {
      "cell_type": "code",
      "metadata": {
        "id": "EhwFxDeeiKr0",
        "colab_type": "code",
        "colab": {}
      },
      "source": [
        "review_length = 100\n",
        "data_count = len(df)\n",
        "dims = ft.get_dimension()"
      ],
      "execution_count": null,
      "outputs": []
    },
    {
      "cell_type": "markdown",
      "metadata": {
        "id": "7l2NBvSzepsj",
        "colab_type": "text"
      },
      "source": [
        "Function to take the text from the review column, clean it, turn it to individual words then convert to vectors"
      ]
    },
    {
      "cell_type": "code",
      "metadata": {
        "id": "-NKO26wQerGK",
        "colab_type": "code",
        "colab": {}
      },
      "source": [
        "def text_to_vector(text):\n",
        "\n",
        "  text = text.replace('&', ' and ')\n",
        "  text = text.replace('@', ' at ')\n",
        "  text = re.sub(r'[^\\x41-\\x7f]',r' ',text)\n",
        "  text = text.lower().split()\n",
        "\n",
        "  window = text[-review_length:]\n",
        "  \n",
        "  vectors = np.zeros((review_length, dims))\n",
        "\n",
        "  for i, word in enumerate(window):\n",
        "      vectors[i, :] = ft.get_word_vector(word).astype('float32')\n",
        "\n",
        "  return vectors\n"
      ],
      "execution_count": null,
      "outputs": []
    },
    {
      "cell_type": "markdown",
      "metadata": {
        "id": "LACbBOSSer9A",
        "colab_type": "text"
      },
      "source": [
        "Function to create the word embedding"
      ]
    },
    {
      "cell_type": "code",
      "metadata": {
        "id": "oIwDnEta4xQe",
        "colab_type": "code",
        "colab": {}
      },
      "source": [
        "def create_word_embedding(df):\n",
        "\n",
        "    word_embedding = np.zeros((len(df), review_length, dims), dtype='float32')\n",
        "\n",
        "    for i, review in enumerate(df['text'].values):\n",
        "        word_embedding[i, :] = text_to_vector(review)\n",
        "\n",
        "    return word_embedding"
      ],
      "execution_count": null,
      "outputs": []
    },
    {
      "cell_type": "markdown",
      "metadata": {
        "id": "dm4YTsnyg1YN",
        "colab_type": "text"
      },
      "source": [
        "Create the embedding"
      ]
    },
    {
      "cell_type": "code",
      "metadata": {
        "id": "aFbazWJh5KIO",
        "colab_type": "code",
        "colab": {}
      },
      "source": [
        "embedding = create_word_embedding(df)"
      ],
      "execution_count": null,
      "outputs": []
    },
    {
      "cell_type": "markdown",
      "metadata": {
        "id": "WiXOm77HhABk",
        "colab_type": "text"
      },
      "source": [
        "Create the training and test set"
      ]
    },
    {
      "cell_type": "code",
      "metadata": {
        "id": "AfyXv14B6cz9",
        "colab_type": "code",
        "colab": {}
      },
      "source": [
        "X_train, X_test, y_train, y_test = train_test_split(embedding, labels, test_size=0.20, random_state=42)"
      ],
      "execution_count": null,
      "outputs": []
    },
    {
      "cell_type": "markdown",
      "metadata": {
        "id": "XCbBM3Goisht",
        "colab_type": "text"
      },
      "source": [
        "Create the CNN"
      ]
    },
    {
      "cell_type": "code",
      "metadata": {
        "id": "RCeeog2K6qjO",
        "colab_type": "code",
        "colab": {}
      },
      "source": [
        "def cnn_text_classifier():\n",
        "\n",
        "    model = Sequential()\n",
        "    model.add(layers.Conv1D(128, 5, activation='relu', input_shape=(review_length, dims)))\n",
        "    model.add(layers.GlobalAveragePooling1D())\n",
        "    model.add(Dropout(0.5))\n",
        "    model.add(layers.Dense(10, activation='relu'))\n",
        "    model.add(layers.Dense(3, activation='sigmoid'))\n",
        "    model.compile(optimizer='adam', loss='categorical_crossentropy', metrics=['accuracy'])\n",
        "    model.summary()\n",
        "    return model"
      ],
      "execution_count": null,
      "outputs": []
    },
    {
      "cell_type": "markdown",
      "metadata": {
        "id": "heFRdX44i7d9",
        "colab_type": "text"
      },
      "source": [
        "Build the model"
      ]
    },
    {
      "cell_type": "code",
      "metadata": {
        "id": "US3b2CqE8Es9",
        "colab_type": "code",
        "colab": {
          "base_uri": "https://localhost:8080/",
          "height": 319
        },
        "outputId": "234ff6ee-9f72-46a3-ce87-5c1b0fce6861"
      },
      "source": [
        "model = cnn_text_classifier()\n",
        "modHistory = model.fit(X_train, y_train, epochs=10, verbose=False, validation_data=(X_test, y_test), batch_size=10)"
      ],
      "execution_count": null,
      "outputs": [
        {
          "output_type": "stream",
          "text": [
            "Model: \"sequential_4\"\n",
            "_________________________________________________________________\n",
            "Layer (type)                 Output Shape              Param #   \n",
            "=================================================================\n",
            "conv1d_4 (Conv1D)            (None, 96, 128)           192128    \n",
            "_________________________________________________________________\n",
            "global_average_pooling1d_4 ( (None, 128)               0         \n",
            "_________________________________________________________________\n",
            "dropout_4 (Dropout)          (None, 128)               0         \n",
            "_________________________________________________________________\n",
            "dense_5 (Dense)              (None, 10)                1290      \n",
            "_________________________________________________________________\n",
            "dense_6 (Dense)              (None, 3)                 33        \n",
            "=================================================================\n",
            "Total params: 193,451\n",
            "Trainable params: 193,451\n",
            "Non-trainable params: 0\n",
            "_________________________________________________________________\n"
          ],
          "name": "stdout"
        }
      ]
    },
    {
      "cell_type": "code",
      "metadata": {
        "id": "IRR1mwLiw-5j",
        "colab_type": "code",
        "colab": {
          "base_uri": "https://localhost:8080/",
          "height": 50
        },
        "outputId": "251183e1-03a4-4fc6-ff0d-cd5e5444369d"
      },
      "source": [
        "loss, accuracy = model.evaluate(X_train, y_train, verbose=False)\n",
        "print(\"Training Accuracy: {:.4f}\".format(accuracy))\n",
        "loss, accuracy = model.evaluate(X_test, y_test, verbose=False)\n",
        "print(\"Testing Accuracy:  {:.4f}\".format(accuracy))"
      ],
      "execution_count": null,
      "outputs": [
        {
          "output_type": "stream",
          "text": [
            "Training Accuracy: 0.5871\n",
            "Testing Accuracy:  0.5600\n"
          ],
          "name": "stdout"
        }
      ]
    },
    {
      "cell_type": "markdown",
      "metadata": {
        "id": "1mAyPgjKi_GA",
        "colab_type": "text"
      },
      "source": [
        "Check the accuracy"
      ]
    },
    {
      "cell_type": "code",
      "metadata": {
        "id": "Y_O6ozD2Cwv3",
        "colab_type": "code",
        "colab": {
          "base_uri": "https://localhost:8080/",
          "height": 84
        },
        "outputId": "cc1cbc44-089f-4617-cd93-7b100ec256bc"
      },
      "source": [
        "from sklearn import metrics\n",
        "from sklearn.metrics import confusion_matrix\n",
        "from sklearn.metrics import f1_score, precision_score\n",
        "\n",
        "y_pred = model.predict(X_test)\n",
        "\n",
        "y_pred = np.argmax(y_pred, axis=1)\n",
        "y_pred2 = np.argmax(y_test, axis=1)\n",
        "\n",
        "cm=confusion_matrix(y_pred2,y_pred)\n",
        "print(cm)\n",
        "\n",
        "score = f1_score(y_pred2,y_pred,average=\"micro\")\n",
        "print(\"F1 score : \", score)"
      ],
      "execution_count": null,
      "outputs": [
        {
          "output_type": "stream",
          "text": [
            "[[182 102 223]\n",
            " [ 58 714 254]\n",
            " [127 292 448]]\n",
            "F1 score :  0.56\n"
          ],
          "name": "stdout"
        }
      ]
    },
    {
      "cell_type": "code",
      "metadata": {
        "id": "Ur-pamCHszMD",
        "colab_type": "code",
        "colab": {
          "base_uri": "https://localhost:8080/",
          "height": 581
        },
        "outputId": "b47fd7f7-e19a-44d1-f36d-5f481aecfcfd"
      },
      "source": [
        "# model accuracy and loss graphs\n",
        "import matplotlib.pyplot as plt\n",
        "\n",
        "plt.plot(modHistory.history['accuracy'])\n",
        "plt.plot(modHistory.history['val_accuracy'])\n",
        "plt.title('model accuracy')\n",
        "plt.ylabel('accuracy')\n",
        "plt.xlabel('epoch')\n",
        "plt.legend(['train', 'test'], loc='upper left')\n",
        "plt.show() #plotting the accuracy  vs the number of epochs\n",
        "\n",
        "plt.plot(modHistory.history['loss'])\n",
        "plt.plot(modHistory.history['val_loss'])\n",
        "plt.title('model loss')\n",
        "plt.ylabel('loss')\n",
        "plt.xlabel('epoch')\n",
        "plt.legend(['train', 'test'], loc='upper left')\n",
        "plt.show() #plotting the loss vs the number of epochs"
      ],
      "execution_count": null,
      "outputs": [
        {
          "output_type": "display_data",
          "data": {
            "image/png": "[encoded data removed]",
            "text/plain": [
              "<Figure size 432x288 with 1 Axes>"
            ]
          },
          "metadata": {
            "tags": []
          }
        },
        {
          "output_type": "display_data",
          "data": {
            "image/png": "[encoded data removed]",
            "text/plain": [
              "<Figure size 432x288 with 1 Axes>"
            ]
          },
          "metadata": {
            "tags": []
          }
        }
      ]
    }
  ]
}