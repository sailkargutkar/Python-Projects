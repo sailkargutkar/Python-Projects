{
  "nbformat": 4,
  "nbformat_minor": 0,
  "metadata": {
    "colab": {
      "name": "HELBNTODR100384.ipynb",
      "provenance": [],
      "collapsed_sections": [],
      "authorship_tag": "ABX9TyNfNdwV4MtWwygsVHSN5KlU",
      "include_colab_link": true
    },
    "kernelspec": {
      "name": "python3",
      "display_name": "Python 3"
    }
  },
  "cells": [
    {
      "cell_type": "markdown",
      "metadata": {
        "id": "view-in-github",
        "colab_type": "text"
      },
      "source": [
        "<a href=\"https://colab.research.google.com/github/sailkargutkar/Python-Projects/blob/HELBNTODR100384/HELBNTODR100384.ipynb\" target=\"_parent\"><img src=\"https://colab.research.google.com/assets/colab-badge.svg\" alt=\"Open In Colab\"/></a>"
      ]
    },
    {
      "cell_type": "code",
      "metadata": {
        "id": "r4-5l4F9QxMm",
        "colab_type": "code",
        "colab": {
          "base_uri": "https://localhost:8080/",
          "height": 121
        },
        "outputId": "94ccf1f0-9b6d-4e66-bd44-ed08af85e124"
      },
      "source": [
        "from google.colab import drive\n",
        "drive.mount('/content/drive')"
      ],
      "execution_count": null,
      "outputs": [
        {
          "output_type": "stream",
          "text": [
            "Go to this URL in a browser: https://accounts.google.com/o/oauth2/auth?client_id=947318989803-6bn6qk8qdgf4n4g3pfee6491hc0brc4i.apps.googleusercontent.com&redirect_uri=urn%3aietf%3awg%3aoauth%3a2.0%3aoob&response_type=code&scope=email%20https%3a%2f%2fwww.googleapis.com%2fauth%2fdocs.test%20https%3a%2f%2fwww.googleapis.com%2fauth%2fdrive%20https%3a%2f%2fwww.googleapis.com%2fauth%2fdrive.photos.readonly%20https%3a%2f%2fwww.googleapis.com%2fauth%2fpeopleapi.readonly\n",
            "\n",
            "Enter your authorization code:\n",
            "··········\n",
            "Mounted at /content/drive\n"
          ],
          "name": "stdout"
        }
      ]
    },
    {
      "cell_type": "markdown",
      "metadata": {
        "id": "s1Ytj1cMNFle",
        "colab_type": "text"
      },
      "source": [
        "**Importing all necessary libraries**"
      ]
    },
    {
      "cell_type": "code",
      "metadata": {
        "id": "-Qv0iMhXMHB0",
        "colab_type": "code",
        "colab": {}
      },
      "source": [
        "import os\n",
        "import pandas as pd\n",
        "import numpy as np\n",
        "from keras.models import Sequential\n",
        "from keras.layers import Embedding,Bidirectional,Dense,Conv1D,Flatten,LSTM,GlobalMaxPooling1D,Dropout\n",
        "from keras.preprocessing.text import Tokenizer\n",
        "from keras.preprocessing.sequence import pad_sequences\n",
        "from sklearn.manifold import TSNE\n",
        "import matplotlib.pyplot as plt\n",
        "import nltk\n",
        "from sklearn.metrics import confusion_matrix\n",
        "from sklearn.metrics import f1_score, precision_score\n",
        "from sklearn.model_selection import GridSearchCV\n",
        "# Import Decision tree classifier\n",
        "from sklearn.tree import DecisionTreeClassifier"
      ],
      "execution_count": 24,
      "outputs": []
    },
    {
      "cell_type": "markdown",
      "metadata": {
        "id": "PY2ozoL9NdKi",
        "colab_type": "text"
      },
      "source": [
        "**Downloading necessary nltk libraries**"
      ]
    },
    {
      "cell_type": "code",
      "metadata": {
        "id": "7w7TqCnRNXdE",
        "colab_type": "code",
        "colab": {
          "base_uri": "https://localhost:8080/",
          "height": 136
        },
        "outputId": "764ab4e1-eab6-4ff6-ee0c-4bb649849b75"
      },
      "source": [
        "nltk.download('punkt')\n",
        "nltk.download('wordnet')\n",
        "nltk.download('stopwords')"
      ],
      "execution_count": 2,
      "outputs": [
        {
          "output_type": "stream",
          "text": [
            "[nltk_data] Downloading package punkt to /root/nltk_data...\n",
            "[nltk_data]   Unzipping tokenizers/punkt.zip.\n",
            "[nltk_data] Downloading package wordnet to /root/nltk_data...\n",
            "[nltk_data]   Unzipping corpora/wordnet.zip.\n",
            "[nltk_data] Downloading package stopwords to /root/nltk_data...\n",
            "[nltk_data]   Unzipping corpora/stopwords.zip.\n"
          ],
          "name": "stdout"
        },
        {
          "output_type": "execute_result",
          "data": {
            "text/plain": [
              "True"
            ]
          },
          "metadata": {
            "tags": []
          },
          "execution_count": 2
        }
      ]
    },
    {
      "cell_type": "code",
      "metadata": {
        "id": "jHReTG2PN9BE",
        "colab_type": "code",
        "colab": {}
      },
      "source": [
        "embed_num_dims = 100\n",
        "max_seq_len = 1000"
      ],
      "execution_count": 3,
      "outputs": []
    },
    {
      "cell_type": "markdown",
      "metadata": {
        "id": "AMuANIgxOGWI",
        "colab_type": "text"
      },
      "source": [
        "**Read dataframe using pandas library**"
      ]
    },
    {
      "cell_type": "code",
      "metadata": {
        "id": "qOI_dCM0OBLP",
        "colab_type": "code",
        "colab": {}
      },
      "source": [
        "data = pd.read_csv('/content/agr_en_train.csv', names=['id','comment_text','identity_hate'], sep=',')"
      ],
      "execution_count": 6,
      "outputs": []
    },
    {
      "cell_type": "code",
      "metadata": {
        "id": "93ESXhFeOOpj",
        "colab_type": "code",
        "colab": {
          "base_uri": "https://localhost:8080/",
          "height": 204
        },
        "outputId": "775762cd-e4d2-4a02-b1de-1af8b23bf98f"
      },
      "source": [
        "data.head()"
      ],
      "execution_count": 7,
      "outputs": [
        {
          "output_type": "execute_result",
          "data": {
            "text/html": [
              "<div>\n",
              "<style scoped>\n",
              "    .dataframe tbody tr th:only-of-type {\n",
              "        vertical-align: middle;\n",
              "    }\n",
              "\n",
              "    .dataframe tbody tr th {\n",
              "        vertical-align: top;\n",
              "    }\n",
              "\n",
              "    .dataframe thead th {\n",
              "        text-align: right;\n",
              "    }\n",
              "</style>\n",
              "<table border=\"1\" class=\"dataframe\">\n",
              "  <thead>\n",
              "    <tr style=\"text-align: right;\">\n",
              "      <th></th>\n",
              "      <th>id</th>\n",
              "      <th>comment_text</th>\n",
              "      <th>identity_hate</th>\n",
              "    </tr>\n",
              "  </thead>\n",
              "  <tbody>\n",
              "    <tr>\n",
              "      <th>0</th>\n",
              "      <td>facebook_corpus_msr_1723796</td>\n",
              "      <td>Well said sonu..you have courage to stand agai...</td>\n",
              "      <td>OAG</td>\n",
              "    </tr>\n",
              "    <tr>\n",
              "      <th>1</th>\n",
              "      <td>facebook_corpus_msr_466073</td>\n",
              "      <td>Most of Private Banks ATM's Like HDFC, ICICI e...</td>\n",
              "      <td>NAG</td>\n",
              "    </tr>\n",
              "    <tr>\n",
              "      <th>2</th>\n",
              "      <td>facebook_corpus_msr_1493901</td>\n",
              "      <td>Now question is, Pakistan will adhere to this?</td>\n",
              "      <td>OAG</td>\n",
              "    </tr>\n",
              "    <tr>\n",
              "      <th>3</th>\n",
              "      <td>facebook_corpus_msr_405512</td>\n",
              "      <td>Pakistan is comprised of fake muslims who does...</td>\n",
              "      <td>OAG</td>\n",
              "    </tr>\n",
              "    <tr>\n",
              "      <th>4</th>\n",
              "      <td>facebook_corpus_msr_1521685</td>\n",
              "      <td>??we r against cow slaughter,so of course it w...</td>\n",
              "      <td>NAG</td>\n",
              "    </tr>\n",
              "  </tbody>\n",
              "</table>\n",
              "</div>"
            ],
            "text/plain": [
              "                            id  ... identity_hate\n",
              "0  facebook_corpus_msr_1723796  ...           OAG\n",
              "1   facebook_corpus_msr_466073  ...           NAG\n",
              "2  facebook_corpus_msr_1493901  ...           OAG\n",
              "3   facebook_corpus_msr_405512  ...           OAG\n",
              "4  facebook_corpus_msr_1521685  ...           NAG\n",
              "\n",
              "[5 rows x 3 columns]"
            ]
          },
          "metadata": {
            "tags": []
          },
          "execution_count": 7
        }
      ]
    },
    {
      "cell_type": "code",
      "metadata": {
        "id": "Q4Opta8cOR2b",
        "colab_type": "code",
        "colab": {}
      },
      "source": [
        "sentences = data['comment_text']\n",
        "labels = data['identity_hate']"
      ],
      "execution_count": 8,
      "outputs": []
    },
    {
      "cell_type": "code",
      "metadata": {
        "id": "rFxPvGwdOht4",
        "colab_type": "code",
        "colab": {
          "base_uri": "https://localhost:8080/",
          "height": 35
        },
        "outputId": "3fde76d6-0449-42ad-cd28-1dc3ae9a40ae"
      },
      "source": [
        "sentences[0]"
      ],
      "execution_count": 9,
      "outputs": [
        {
          "output_type": "execute_result",
          "data": {
            "application/vnd.google.colaboratory.intrinsic": {
              "type": "string"
            },
            "text/plain": [
              "'Well said sonu..you have courage to stand against dadagiri of Muslims'"
            ]
          },
          "metadata": {
            "tags": []
          },
          "execution_count": 9
        }
      ]
    },
    {
      "cell_type": "code",
      "metadata": {
        "id": "SbJNJSb4OkGw",
        "colab_type": "code",
        "colab": {}
      },
      "source": [
        "tokenizer = Tokenizer(num_words = 4000)\n",
        "tokenizer.fit_on_texts(sentences)\n",
        "sequence = tokenizer.texts_to_sequences(sentences)"
      ],
      "execution_count": 10,
      "outputs": []
    },
    {
      "cell_type": "code",
      "metadata": {
        "id": "6-n_U214OoQW",
        "colab_type": "code",
        "colab": {}
      },
      "source": [
        "Y = pd.get_dummies(labels).values"
      ],
      "execution_count": 11,
      "outputs": []
    },
    {
      "cell_type": "code",
      "metadata": {
        "id": "TArbOJ5MPjRx",
        "colab_type": "code",
        "colab": {
          "base_uri": "https://localhost:8080/",
          "height": 34
        },
        "outputId": "49aa5aa3-36fb-420f-e10c-c7f1121a9c63"
      },
      "source": [
        "index_of_words = tokenizer.word_index\n",
        "print(len(index_of_words))"
      ],
      "execution_count": 12,
      "outputs": [
        {
          "output_type": "stream",
          "text": [
            "23370\n"
          ],
          "name": "stdout"
        }
      ]
    },
    {
      "cell_type": "code",
      "metadata": {
        "id": "jLd92AC6PoSk",
        "colab_type": "code",
        "colab": {}
      },
      "source": [
        "padded_seq = pad_sequences(sequence , maxlen = max_seq_len )"
      ],
      "execution_count": 13,
      "outputs": []
    },
    {
      "cell_type": "code",
      "metadata": {
        "id": "xb3WmHqaPqOU",
        "colab_type": "code",
        "colab": {
          "base_uri": "https://localhost:8080/",
          "height": 136
        },
        "outputId": "e3b89ebf-b23f-4169-c4c6-c5df15fd05c6"
      },
      "source": [
        "padded_seq"
      ],
      "execution_count": 14,
      "outputs": [
        {
          "output_type": "execute_result",
          "data": {
            "text/plain": [
              "array([[   0,    0,    0, ...,   93,    4,  116],\n",
              "       [   0,    0,    0, ...,  467, 1622,  223],\n",
              "       [   0,    0,    0, ...,   18,    2,   12],\n",
              "       ...,\n",
              "       [   0,    0,    0, ...,    0,    0,  102],\n",
              "       [   0,    0,    0, ...,   10,  487,  778],\n",
              "       [   0,    0,    0, ...,   35,   36,  824]], dtype=int32)"
            ]
          },
          "metadata": {
            "tags": []
          },
          "execution_count": 14
        }
      ]
    },
    {
      "cell_type": "code",
      "metadata": {
        "id": "kxRZ9DucPr_b",
        "colab_type": "code",
        "colab": {}
      },
      "source": [
        "from keras.utils import to_categorical"
      ],
      "execution_count": 15,
      "outputs": []
    },
    {
      "cell_type": "code",
      "metadata": {
        "id": "XogRf-fcPwC9",
        "colab_type": "code",
        "colab": {}
      },
      "source": [
        "from sklearn.model_selection import train_test_split\n",
        "\n",
        "X_train,X_test,Y_train,Y_test = train_test_split(padded_seq,Y ,test_size = 0.10, random_state = 42)"
      ],
      "execution_count": 16,
      "outputs": []
    },
    {
      "cell_type": "code",
      "metadata": {
        "id": "lMrDEcJNQpLH",
        "colab_type": "code",
        "colab": {
          "base_uri": "https://localhost:8080/",
          "height": 34
        },
        "outputId": "61bc294b-50a0-4e6c-cbf3-78c8e6443a4f"
      },
      "source": [
        "X_train.shape"
      ],
      "execution_count": 17,
      "outputs": [
        {
          "output_type": "execute_result",
          "data": {
            "text/plain": [
              "(10799, 1000)"
            ]
          },
          "metadata": {
            "tags": []
          },
          "execution_count": 17
        }
      ]
    },
    {
      "cell_type": "code",
      "metadata": {
        "id": "0Y2R34AGQa87",
        "colab_type": "code",
        "colab": {
          "base_uri": "https://localhost:8080/",
          "height": 34
        },
        "outputId": "25bf4236-3397-4ce6-fae3-d5d91529579f"
      },
      "source": [
        "Y_train.shape"
      ],
      "execution_count": 18,
      "outputs": [
        {
          "output_type": "execute_result",
          "data": {
            "text/plain": [
              "(10799, 3)"
            ]
          },
          "metadata": {
            "tags": []
          },
          "execution_count": 18
        }
      ]
    },
    {
      "cell_type": "code",
      "metadata": {
        "id": "2JAjOhf5Qs9u",
        "colab_type": "code",
        "colab": {
          "base_uri": "https://localhost:8080/",
          "height": 34
        },
        "outputId": "dae9fb0a-c998-4521-c22f-490c6e4e89c0"
      },
      "source": [
        "import urllib.request as urllib\n",
        "testfile = urllib.URLopener()\n",
        "testfile.retrieve(\"https://resources.oreilly.com/conferences/natural-language-processing-with-deep-learning/raw/master/data/glove.6B.100d.txt\", \"glove.6B.100d.txt\")\n",
        "\n",
        "f = open('/content/glove.6B.100d.txt')\n",
        "embedd_index = {}\n",
        "for line in f:\n",
        "    val = line.split()\n",
        "    word = val[0]\n",
        "    coff = np.asarray(val[1:],dtype = 'float')\n",
        "    embedd_index[word] = coff\n",
        "\n",
        "f.close()\n",
        "print('Found %s word vectors.' % len(embedd_index))"
      ],
      "execution_count": 21,
      "outputs": [
        {
          "output_type": "stream",
          "text": [
            "Found 400000 word vectors.\n"
          ],
          "name": "stdout"
        }
      ]
    },
    {
      "cell_type": "code",
      "metadata": {
        "id": "u9_8Jx89RE2f",
        "colab_type": "code",
        "colab": {
          "base_uri": "https://localhost:8080/",
          "height": 357
        },
        "outputId": "e0b48704-dd1e-44c5-d402-78cf8947ec23"
      },
      "source": [
        "embedd_index['good']"
      ],
      "execution_count": 22,
      "outputs": [
        {
          "output_type": "execute_result",
          "data": {
            "text/plain": [
              "array([-0.030769 ,  0.11993  ,  0.53909  , -0.43696  , -0.73937  ,\n",
              "       -0.15345  ,  0.081126 , -0.38559  , -0.68797  , -0.41632  ,\n",
              "       -0.13183  , -0.24922  ,  0.441    ,  0.085919 ,  0.20871  ,\n",
              "       -0.063582 ,  0.062228 , -0.051234 , -0.13398  ,  1.1418   ,\n",
              "        0.036526 ,  0.49029  , -0.24567  , -0.412    ,  0.12349  ,\n",
              "        0.41336  , -0.48397  , -0.54243  , -0.27787  , -0.26015  ,\n",
              "       -0.38485  ,  0.78656  ,  0.1023   , -0.20712  ,  0.40751  ,\n",
              "        0.32026  , -0.51052  ,  0.48362  , -0.0099498, -0.38685  ,\n",
              "        0.034975 , -0.167    ,  0.4237   , -0.54164  , -0.30323  ,\n",
              "       -0.36983  ,  0.082836 , -0.52538  , -0.064531 , -1.398    ,\n",
              "       -0.14873  , -0.35327  , -0.1118   ,  1.0912   ,  0.095864 ,\n",
              "       -2.8129   ,  0.45238  ,  0.46213  ,  1.6012   , -0.20837  ,\n",
              "       -0.27377  ,  0.71197  , -1.0754   , -0.046974 ,  0.67479  ,\n",
              "       -0.065839 ,  0.75824  ,  0.39405  ,  0.15507  , -0.64719  ,\n",
              "        0.32796  , -0.031748 ,  0.52899  , -0.43886  ,  0.67405  ,\n",
              "        0.42136  , -0.11981  , -0.21777  , -0.29756  , -0.1351   ,\n",
              "        0.59898  ,  0.46529  , -0.58258  , -0.02323  , -1.5442   ,\n",
              "        0.01901  , -0.015877 ,  0.024499 , -0.58017  , -0.67659  ,\n",
              "       -0.040379 , -0.44043  ,  0.083292 ,  0.20035  , -0.75499  ,\n",
              "        0.16918  , -0.26573  , -0.52878  ,  0.17584  ,  1.065    ])"
            ]
          },
          "metadata": {
            "tags": []
          },
          "execution_count": 22
        }
      ]
    },
    {
      "cell_type": "markdown",
      "metadata": {
        "id": "ASMd-EsuRZiz",
        "colab_type": "text"
      },
      "source": [
        "**Here our hyperparameter tuning process**"
      ]
    },
    {
      "cell_type": "code",
      "metadata": {
        "id": "6uZCv_2eRSqI",
        "colab_type": "code",
        "colab": {}
      },
      "source": [
        "classifierD = DecisionTreeClassifier()\n",
        "parameters = {'max_features': ['log2', 'sqrt','auto'], \n",
        "              'criterion': ['entropy', 'gini'],\n",
        "              'max_depth': [2, 3, 5, 10, 50], \n",
        "              'min_samples_split': [2, 3, 50, 100],\n",
        "              'min_samples_leaf': [1, 5, 8, 10]\n",
        "             }\n",
        "grid = GridSearchCV(classifierD, parameters)\n",
        "grid = grid.fit(X_train, Y_train)\n",
        "classifierD = grid.best_estimator_\n",
        "classifierD.fit(X_train, Y_train)"
      ],
      "execution_count": null,
      "outputs": []
    },
    {
      "cell_type": "markdown",
      "metadata": {
        "id": "FWhG-OdrRyqj",
        "colab_type": "text"
      },
      "source": [
        "**convolutional neural network (CNN) embedd with GLOVe module**"
      ]
    },
    {
      "cell_type": "code",
      "metadata": {
        "id": "icqURmvkS5oM",
        "colab_type": "code",
        "colab": {}
      },
      "source": [
        "embedding_matrix = np.zeros((400000, 100))\n",
        "for word, index in tokenizer.word_index.items():\n",
        "    if index > 400000 - 1:\n",
        "        break\n",
        "    else:\n",
        "        embedding_vector = embedd_index.get(word)\n",
        "        if embedding_vector is not None:\n",
        "            embedding_matrix[index] = embedding_vector"
      ],
      "execution_count": null,
      "outputs": []
    },
    {
      "cell_type": "code",
      "metadata": {
        "id": "D536QfDXRyB_",
        "colab_type": "code",
        "colab": {}
      },
      "source": [
        "cnn = Sequential()\n",
        "cnn.add(Embedding(400000, 100, input_length=1000, weights=[embedding_matrix], trainable=False))\n",
        "cnn.add(Dropout(0.2))\n",
        "cnn.add(Conv1D(64, 5, activation='relu'))\n",
        "cnn.add(MaxPooling1D(pool_size=4))\n",
        "cnn.add(LSTM(100))\n",
        "cnn.add(Dense(3, activation='sigmoid'))"
      ],
      "execution_count": null,
      "outputs": []
    },
    {
      "cell_type": "markdown",
      "metadata": {
        "id": "fGBV8cftSEOj",
        "colab_type": "text"
      },
      "source": [
        "**Compile module data**"
      ]
    },
    {
      "cell_type": "code",
      "metadata": {
        "id": "qtMATfhjSDJ7",
        "colab_type": "code",
        "colab": {}
      },
      "source": [
        "cnn.compile(loss='categorical_crossentropy', optimizer='adam', metrics=['accuracy'])"
      ],
      "execution_count": null,
      "outputs": []
    },
    {
      "cell_type": "markdown",
      "metadata": {
        "id": "Vo_-8pWtSKqm",
        "colab_type": "text"
      },
      "source": [
        "**Fit module data**"
      ]
    },
    {
      "cell_type": "code",
      "metadata": {
        "id": "EhXsydmBSJJ2",
        "colab_type": "code",
        "colab": {
          "base_uri": "https://localhost:8080/",
          "height": 134
        },
        "outputId": "86a415b5-7323-4368-fb52-0f35d30319e3"
      },
      "source": [
        "modCnn = cnn.fit(X_train, Y_train, validation_split=0.4, epochs = 3)"
      ],
      "execution_count": null,
      "outputs": [
        {
          "output_type": "stream",
          "text": [
            "Train on 6479 samples, validate on 4320 samples\n",
            "Epoch 1/3\n",
            "6479/6479 [==============================] - 85s 13ms/step - loss: 1.0263 - accuracy: 0.4530 - val_loss: 0.9679 - val_accuracy: 0.5100\n",
            "Epoch 2/3\n",
            "6479/6479 [==============================] - 85s 13ms/step - loss: 0.9576 - accuracy: 0.5081 - val_loss: 0.9496 - val_accuracy: 0.5208\n",
            "Epoch 3/3\n",
            "6479/6479 [==============================] - 85s 13ms/step - loss: 0.9211 - accuracy: 0.5333 - val_loss: 0.9233 - val_accuracy: 0.5428\n"
          ],
          "name": "stdout"
        }
      ]
    },
    {
      "cell_type": "markdown",
      "metadata": {
        "id": "PJHkKl1RSRfV",
        "colab_type": "text"
      },
      "source": [
        "**Evaluate module data**"
      ]
    },
    {
      "cell_type": "code",
      "metadata": {
        "id": "NPVEBPElSPCT",
        "colab_type": "code",
        "colab": {
          "base_uri": "https://localhost:8080/",
          "height": 34
        },
        "outputId": "542afb60-ac34-427a-87ed-e5f024170d5e"
      },
      "source": [
        "accr = cnn.evaluate(X_test,Y_test)"
      ],
      "execution_count": null,
      "outputs": [
        {
          "output_type": "stream",
          "text": [
            "1200/1200 [==============================] - 3s 3ms/step\n"
          ],
          "name": "stdout"
        }
      ]
    },
    {
      "cell_type": "markdown",
      "metadata": {
        "id": "mMgG2AQJSXpd",
        "colab_type": "text"
      },
      "source": [
        "**Prints testing data loss and accuracy**"
      ]
    },
    {
      "cell_type": "code",
      "metadata": {
        "id": "Y7ohzCLKSejO",
        "colab_type": "code",
        "colab": {
          "base_uri": "https://localhost:8080/",
          "height": 50
        },
        "outputId": "6e245743-d263-4a59-d728-0eec17b372ae"
      },
      "source": [
        "print('Loss: {:0.3f}\\n  Accuracy: {:0.3f}'.format(accr[0],accr[1]))"
      ],
      "execution_count": null,
      "outputs": [
        {
          "output_type": "stream",
          "text": [
            "Loss: 0.916\n",
            "  Accuracy: 0.568\n"
          ],
          "name": "stdout"
        }
      ]
    },
    {
      "cell_type": "markdown",
      "metadata": {
        "id": "UFYUSWFMUKEC",
        "colab_type": "text"
      },
      "source": [
        "**Predict module data on test data set**"
      ]
    },
    {
      "cell_type": "code",
      "metadata": {
        "id": "fTmr378hUJjg",
        "colab_type": "code",
        "colab": {}
      },
      "source": [
        "prdVal = cnn.predict(X_test)"
      ],
      "execution_count": null,
      "outputs": []
    },
    {
      "cell_type": "markdown",
      "metadata": {
        "id": "QO3Fy8EiUlTY",
        "colab_type": "text"
      },
      "source": [
        "**Prints F1 score and confusion matrix**"
      ]
    },
    {
      "cell_type": "code",
      "metadata": {
        "id": "nqael2ZBUsQ6",
        "colab_type": "code",
        "colab": {}
      },
      "source": [
        "prdVal = np.argmax(prdVal, axis=1)\n",
        "prdVal_x = np.argmax(Y_test, axis=1)"
      ],
      "execution_count": null,
      "outputs": []
    },
    {
      "cell_type": "code",
      "metadata": {
        "id": "HO5mt7m1U0m0",
        "colab_type": "code",
        "colab": {
          "base_uri": "https://localhost:8080/",
          "height": 84
        },
        "outputId": "5ed451d3-56e0-4366-c699-d709a5730dd1"
      },
      "source": [
        "print(confusion_matrix(prdVal_x,prdVal))\n",
        "f1_score(prdVal_x,prdVal,average=\"micro\")"
      ],
      "execution_count": null,
      "outputs": [
        {
          "output_type": "stream",
          "text": [
            "[[213 153  78]\n",
            " [106 368  39]\n",
            " [ 98  44 101]]\n"
          ],
          "name": "stdout"
        },
        {
          "output_type": "execute_result",
          "data": {
            "text/plain": [
              "0.5683333333333334"
            ]
          },
          "metadata": {
            "tags": []
          },
          "execution_count": 128
        }
      ]
    },
    {
      "cell_type": "markdown",
      "metadata": {
        "id": "hWekamAIU53M",
        "colab_type": "text"
      },
      "source": [
        "**Visualize model accuracy and loss in graphical format**"
      ]
    },
    {
      "cell_type": "markdown",
      "metadata": {
        "id": "hubkcDGrVIMH",
        "colab_type": "text"
      },
      "source": [
        "Accuracy graph visualization"
      ]
    },
    {
      "cell_type": "code",
      "metadata": {
        "id": "XhNH65mPVA3-",
        "colab_type": "code",
        "colab": {
          "base_uri": "https://localhost:8080/",
          "height": 295
        },
        "outputId": "78b2794f-aa04-4ed4-a9ac-5dab5fbfdd40"
      },
      "source": [
        "plt.plot(modCnn.history['accuracy'])\n",
        "plt.plot(modCnn.history['val_accuracy'])\n",
        "plt.title('model accuracy')\n",
        "plt.ylabel('accuracy')\n",
        "plt.xlabel('epoch')\n",
        "plt.legend(['train', 'test'], loc='upper left')\n",
        "plt.show()"
      ],
      "execution_count": null,
      "outputs": [
        {
          "output_type": "display_data",
          "data": {
            "image/png": "[encoded data removed]",
            "text/plain": [
              "<Figure size 432x288 with 1 Axes>"
            ]
          },
          "metadata": {
            "tags": [],
            "needs_background": "light"
          }
        }
      ]
    },
    {
      "cell_type": "markdown",
      "metadata": {
        "id": "8ux5pTLGVLjr",
        "colab_type": "text"
      },
      "source": [
        "Loss graph visualization"
      ]
    },
    {
      "cell_type": "code",
      "metadata": {
        "id": "cIZOSFvxVL6h",
        "colab_type": "code",
        "colab": {
          "base_uri": "https://localhost:8080/",
          "height": 295
        },
        "outputId": "3f2e0c87-90c5-47d1-8742-f95cc01c619a"
      },
      "source": [
        "\n",
        "plt.plot(modCnn.history['loss'])\n",
        "plt.plot(modCnn.history['val_loss'])\n",
        "plt.title('model loss')\n",
        "plt.ylabel('loss')\n",
        "plt.xlabel('epoch')\n",
        "plt.legend(['train', 'test'], loc='upper left')\n",
        "plt.show()"
      ],
      "execution_count": null,
      "outputs": [
        {
          "output_type": "display_data",
          "data": {
            "image/png": "[encoded data removed]",
            "text/plain": [
              "<Figure size 432x288 with 1 Axes>"
            ]
          },
          "metadata": {
            "tags": [],
            "needs_background": "light"
          }
        }
      ]
    }
  ]
}