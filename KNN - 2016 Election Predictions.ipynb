{
 "cells": [
  {
   "cell_type": "markdown",
   "metadata": {},
   "source": [
    "# Modeling the 2016 US Presidential Election using K-nearest Neighbors"
   ]
  },
  {
   "cell_type": "markdown",
   "metadata": {},
   "source": [
    "#"
   ]
  },
  {
   "cell_type": "markdown",
   "metadata": {},
   "source": [
    "## Loading the data:"
   ]
  },
  {
   "cell_type": "code",
   "execution_count": 2,
   "metadata": {
    "collapsed": false
   },
   "outputs": [],
   "source": [
    "import pandas as pd\n",
    "from constants import *\n",
    "\n",
    "census_data = pd.read_csv('combined_data.csv')\n",
    "\n",
    "X = census_data[feature_cols]\n",
    "y = census_data['Democrat']"
   ]
  },
  {
   "cell_type": "markdown",
   "metadata": {},
   "source": [
    "## Hyperparameter Optimization:"
   ]
  },
  {
   "cell_type": "markdown",
   "metadata": {},
   "source": [
    "### Tuning single parameters with cross_val_score:\n",
    "\n",
    "The code below runs 10-fold cross-validation for each value K (for KNN) from 1 to 40. The average score for each value is calculated and printed below."
   ]
  },
  {
   "cell_type": "code",
   "execution_count": 3,
   "metadata": {
    "collapsed": false
   },
   "outputs": [
    {
     "name": "stdout",
     "output_type": "stream",
     "text": [
      "[0.81972362973665347, 0.85215520418568791, 0.84674118498664208, 0.8594709651495227, 0.85469082972450838, 0.85946388154849518, 0.85246760294235924, 0.8578684788798544, 0.85977729132528591, 0.85754898360177045, 0.85977628030516651, 0.8578603713383226, 0.86072460425668551, 0.85945375196672491, 0.86008765512133378, 0.85945680440766004, 0.86008968362176486, 0.86072866125754754, 0.86104612157500782, 0.86009070110207664, 0.86295088347976967, 0.8626344341824288, 0.8626334231623094, 0.86168104220992847, 0.8616790137094974, 0.86104611511481544, 0.86199950708731554, 0.86072866125754754, 0.86041018991996787, 0.85945881998770624, 0.85945679148727516, 0.85850643903532531, 0.85850339951477506, 0.85723457572524553, 0.85850644549551769, 0.85691813288809693, 0.85659864407020547, 0.85596271241516553, 0.856596622029967, 0.85564626311782455]\n"
     ]
    }
   ],
   "source": [
    "from sklearn.cross_validation import cross_val_score\n",
    "from sklearn.neighbors import KNeighborsClassifier\n",
    "\n",
    "# search for an optimal value of K for KNN\n",
    "k_range = list(range(1, 41))\n",
    "k_scores = []\n",
    "for k in k_range:\n",
    "    knn = KNeighborsClassifier(n_neighbors=k)\n",
    "    scores = cross_val_score(knn, X, y, cv=10, scoring='accuracy')\n",
    "    k_scores.append(scores.mean())\n",
    "print(k_scores)"
   ]
  },
  {
   "cell_type": "markdown",
   "metadata": {},
   "source": [
    "For ease of interpretation, we plot the accuracy scores for each value of K. We see that 21 yields the highest out-of-sample accuracy:"
   ]
  },
  {
   "cell_type": "code",
   "execution_count": 4,
   "metadata": {
    "collapsed": false
   },
   "outputs": [
    {
     "data": {
      "text/plain": [
       "<matplotlib.text.Text at 0x10b9e8790>"
      ]
     },
     "execution_count": 4,
     "metadata": {},
     "output_type": "execute_result"
    },
    {
     "data": {
      "image/png": "[encoded data removed]",
      "text/plain": [
       "<matplotlib.figure.Figure at 0x10a829d90>"
      ]
     },
     "metadata": {},
     "output_type": "display_data"
    }
   ],
   "source": [
    "import matplotlib.pyplot as plt\n",
    "%matplotlib inline\n",
    "\n",
    "# plot the value of K for KNN (x-axis) versus the cross-validated accuracy (y-axis)\n",
    "plt.plot(k_range, k_scores)\n",
    "plt.xlabel('Value of K for KNN')\n",
    "plt.ylabel('Cross-Validated Accuracy')"
   ]
  },
  {
   "cell_type": "markdown",
   "metadata": {},
   "source": [
    "### Tuning multiple parameters with GridSearchCV\n",
    "\n",
    "GridSearchCV allows us to perform the same cross-validation testing with multiple parameters at once. Below, we find the optimal combination of K value (for KNN) and leaf_size:"
   ]
  },
  {
   "cell_type": "code",
   "execution_count": 5,
   "metadata": {
    "collapsed": false
   },
   "outputs": [
    {
     "name": "stderr",
     "output_type": "stream",
     "text": [
      "/Library/Frameworks/Python.framework/Versions/2.7/lib/python2.7/site-packages/sklearn/grid_search.py:43: DeprecationWarning: This module was deprecated in version 0.18 in favor of the model_selection module into which all the refactored classes and functions are moved. This module will be removed in 0.20.\n",
      "  DeprecationWarning)\n"
     ]
    },
    {
     "name": "stdout",
     "output_type": "stream",
     "text": [
      "0.862957074722\n",
      "{'n_neighbors': 21, 'leaf_size': 20}\n",
      "KNeighborsClassifier(algorithm='auto', leaf_size=20, metric='minkowski',\n",
      "           metric_params=None, n_jobs=1, n_neighbors=21, p=2,\n",
      "           weights='uniform')\n"
     ]
    }
   ],
   "source": [
    "from sklearn.grid_search import GridSearchCV\n",
    "\n",
    "# define the parameter values that should be searched\n",
    "k_range = list(range(1, 41))\n",
    "leaf_size_range = list(range(20, 50))\n",
    "\n",
    "param_grid = dict(n_neighbors=k_range, leaf_size=leaf_size_range)\n",
    "grid = GridSearchCV(knn, param_grid, cv=10, scoring='accuracy')\n",
    "grid.fit(X, y)\n",
    "grid_mean_scores = [result.mean_validation_score for result in grid.grid_scores_]\n",
    "\n",
    "print(grid.best_score_)\n",
    "print(grid.best_params_)\n",
    "print(grid.best_estimator_)"
   ]
  },
  {
   "cell_type": "markdown",
   "metadata": {},
   "source": [
    "## K-folds cross-validation:\n",
    "\n",
    "Using the optimal hyper parameters found in the previous steps, we can calcluate the average out-of-sample accuracy for KNN. We find that KNN produces a model with predictions that are ~87.5% accurate."
   ]
  },
  {
   "cell_type": "code",
   "execution_count": 6,
   "metadata": {
    "collapsed": false
   },
   "outputs": [
    {
     "name": "stdout",
     "output_type": "stream",
     "text": [
      "0.789197266969\n"
     ]
    }
   ],
   "source": [
    "# 10-fold cross-validation with K=31 for KNN\n",
    "knn = KNeighborsClassifier(n_neighbors=21, leaf_size=20)\n",
    "scores = cross_val_score(knn, X, y, cv=10, scoring='roc_auc')\n",
    "\n",
    "print(scores.mean())"
   ]
  },
  {
   "cell_type": "code",
   "execution_count": null,
   "metadata": {
    "collapsed": true
   },
   "outputs": [],
   "source": []
  }
 ],
 "metadata": {
  "kernelspec": {
   "display_name": "Python 2",
   "language": "python",
   "name": "python2"
  },
  "language_info": {
   "codemirror_mode": {
    "name": "ipython",
    "version": 2
   },
   "file_extension": ".py",
   "mimetype": "text/x-python",
   "name": "python",
   "nbconvert_exporter": "python",
   "pygments_lexer": "ipython2",
   "version": "2.7.12"
  }
 },
 "nbformat": 4,
 "nbformat_minor": 1
}
