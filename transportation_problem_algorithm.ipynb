{
  "nbformat": 4,
  "nbformat_minor": 0,
  "metadata": {
    "kernelspec": {
      "display_name": "Python 3",
      "language": "python",
      "name": "python3"
    },
    "language_info": {
      "codemirror_mode": {
        "name": "ipython",
        "version": 3
      },
      "file_extension": ".py",
      "mimetype": "text/x-python",
      "name": "python",
      "nbconvert_exporter": "python",
      "pygments_lexer": "ipython3",
      "version": "3.6.9"
    },
    "colab": {
      "name": "transportation_problem_algorithm.ipynb",
      "provenance": []
    }
  },
  "cells": [
    {
      "cell_type": "markdown",
      "metadata": {
        "id": "m76PsTvvaURF"
      },
      "source": [
        "**Problem definition:**\n",
        "\n",
        "Optimisation problem\n",
        "Your task is to schedule LPG delivery so that the overall cost of delivery is minimised, while making sure that:\n",
        "each lorry starts from its home depot and return to any depot at the end of the journey,\n",
        "you deliver to all customers who have less than 20% of gas in their tanks,\n",
        "you fill the tanks of these customers to at least 50% of their capacity.\n",
        "\n",
        "You are required to design and implement an optimisation scheme to address the LPG delivery scheduling problem.The optimisation scheme should use any combination of methods covered in class (e.g. Genetic Algorithms, Ant Colony Optimisation) as well as methods you have found during your independent study or which you came up with yourself. \n",
        "Your implementation must be in Python. You're allowed to use existing Python optimisation libraries or implementations if you need to, but you should aim to implement as much as possible from scratch yourself.You Must apply your implementation to the LPG delivery scheduling problem and critically evaluate the results, commenting on strengths and weaknesses of the approach you have used in terms of quality of the solution, running time etc.\n"
      ]
    },
    {
      "cell_type": "markdown",
      "metadata": {
        "id": "jTklFXtxafPn"
      },
      "source": [
        "**Methodology (all steps):**"
      ]
    },
    {
      "cell_type": "code",
      "metadata": {
        "colab": {
          "base_uri": "https://localhost:8080/"
        },
        "id": "zkl0ogG6f3Mi",
        "outputId": "c4785f46-8e61-44c4-d2e1-da12bee2406b"
      },
      "source": [
        "pip install pulp"
      ],
      "execution_count": 5,
      "outputs": [
        {
          "output_type": "stream",
          "text": [
            "Collecting pulp\n",
            "\u001b[?25l  Downloading https://files.pythonhosted.org/packages/14/c4/0eec14a0123209c261de6ff154ef3be5cad3fd557c084f468356662e0585/PuLP-2.4-py3-none-any.whl (40.6MB)\n",
            "\u001b[K     |████████████████████████████████| 40.6MB 95kB/s \n",
            "\u001b[?25hCollecting amply>=0.1.2\n",
            "  Downloading https://files.pythonhosted.org/packages/f3/c5/dfa09dd2595a2ab2ab4e6fa7bebef9565812722e1980d04b0edce5032066/amply-0.1.4-py3-none-any.whl\n",
            "Requirement already satisfied: pyparsing in /usr/local/lib/python3.7/dist-packages (from amply>=0.1.2->pulp) (2.4.7)\n",
            "Requirement already satisfied: docutils>=0.3 in /usr/local/lib/python3.7/dist-packages (from amply>=0.1.2->pulp) (0.17)\n",
            "Installing collected packages: amply, pulp\n",
            "Successfully installed amply-0.1.4 pulp-2.4\n"
          ],
          "name": "stdout"
        }
      ]
    },
    {
      "cell_type": "code",
      "metadata": {
        "id": "aUHaK7hYfyOU"
      },
      "source": [
        "import pandas as pd\n",
        "import json \n",
        "import itertools\n",
        "import numpy as np\n",
        "from pulp import *"
      ],
      "execution_count": 6,
      "outputs": []
    },
    {
      "cell_type": "markdown",
      "metadata": {
        "id": "YyTYIZRCaikN"
      },
      "source": [
        "Here we have imported our dataset and created the output json file."
      ]
    },
    {
      "cell_type": "code",
      "metadata": {
        "id": "4_qZxwSEfyOj"
      },
      "source": [
        "# dataset\n",
        "optilandia_links=pd.read_csv(\"/content/SaO_Optilandia_resub_links.csv\")\n",
        "optilandia_locations=pd.read_csv(\"/content/SaO_Optilandia_resub_locations.csv\")\n",
        "optilandia_example_sol=pd.read_json(\"/content/SaO_Optilandia_resub_example_solution.json\")\n",
        "\n",
        "with open(\"/content/SaO_Optilandia_resub_depot_lorries.json\") as json_data:\n",
        "    data = json.load(json_data)\n",
        "\n",
        "    \n",
        "optilandia_depots=data"
      ],
      "execution_count": 7,
      "outputs": []
    },
    {
      "cell_type": "markdown",
      "metadata": {
        "id": "D06LsqKcalNK"
      },
      "source": [
        "First we take the list of all supply nodes.\n",
        "A list is a data structure in Python that is a mutable, or changeable, ordered sequence of elements. Each element or value that is inside of a list is called an item. Just as strings are defined as characters between quotes, lists are defined by having values between square brackets.\n"
      ]
    },
    {
      "cell_type": "code",
      "metadata": {
        "id": "dQhoqwPWfyOl"
      },
      "source": [
        "# a list of all the supply nodes\n",
        "Depots=list(optilandia_depots.keys())"
      ],
      "execution_count": 8,
      "outputs": []
    },
    {
      "cell_type": "markdown",
      "metadata": {
        "id": "yVAxUeEJatrN"
      },
      "source": [
        "Then we have created a dictionary for the number of units of supply for each supply node\n",
        "Dictionaries are Python's implementation of a data structure that is more generally known as an associative array. A dictionary consists of a collection of key-value pairs. Each key-value pair maps the key to its associated value."
      ]
    },
    {
      "cell_type": "code",
      "metadata": {
        "id": "AZTvoSUcarG7"
      },
      "source": [
        "# Creates a dictionary for the number of units of supply for each supply node\n",
        "supply={}\n",
        "for i in range(len(Depots)):\n",
        "    for j in optilandia_depots[Depots[i]]:\n",
        "        supply.update({j['lorry_id']:j['capacity']})\n",
        "\n",
        "Depots=list(supply.keys())"
      ],
      "execution_count": null,
      "outputs": []
    },
    {
      "cell_type": "markdown",
      "metadata": {
        "id": "4isgXoa0ay6L"
      },
      "source": [
        "Here we have created a list of all demand nodes"
      ]
    },
    {
      "cell_type": "code",
      "metadata": {
        "id": "wPGIBOiba04-"
      },
      "source": [
        "# Creates a list of all demand nodes\n",
        "lpg_customers=optilandia_locations.dropna()\n",
        "lpg_customers_nodes=list(optilandia_locations.dropna()['id'])"
      ],
      "execution_count": null,
      "outputs": []
    },
    {
      "cell_type": "markdown",
      "metadata": {
        "id": "RoQo4FBra24s"
      },
      "source": [
        "Here we have created a dictionary for the number of units of demand for each demand node.\n",
        "We have used for loop to append our respective data."
      ]
    },
    {
      "cell_type": "code",
      "metadata": {
        "id": "h-5BH7_2fyOm"
      },
      "source": [
        "# Creates a dictionary for the number of units of demand for each demand node\n",
        "demand={}\n",
        "lpg_customers_nodes=list(optilandia_locations.dropna()['id'])\n",
        "lpg_customers_capacity=list(lpg_customers['capacity'])\n",
        "lpg_customers_level=list(lpg_customers['level'])\n",
        "# demand.update({lpg_customers_nodes:lpg_customers_level})\n",
        "for a,b in zip(lpg_customers_nodes,lpg_customers_level):\n",
        "    demand.update({a:b})"
      ],
      "execution_count": 9,
      "outputs": []
    },
    {
      "cell_type": "markdown",
      "metadata": {
        "id": "a7o7M4u1a5Xh"
      },
      "source": [
        "Here we have use greedy algorithms to find the shortest routes\n",
        "Greedy is an algorithmic paradigm that builds up a solution piece by piece, always choosing the next piece that offers the most obvious and immediate benefit. So the problems where choosing locally optimal also leads to global solution are best fit for Greedy. For example consider the Fractional Knapsack Problem.\n",
        "Dijkstra's algorithm is an algorithm for finding the shortest paths between nodes in a graph, which may represent, for example, road networks. Dijkstra's Algorithm stands out from the rest due to its ability to find the shortest path from one node to every other node within the same graph data structure. One algorithm for finding the shortest path from a starting node to a target node in a weighted graph is Dijkstra's algorithm. The algorithm creates a tree of shortest paths from the starting vertex, the source, to all other points in the graph. Dijkstra's algorithm is just BFS with a priority queue. Dijkstra's algorithm is used for graph searches. It is optimal, meaning it will find the single shortest path. It is uninformed, meaning it does not need to know the target node beforehand. In fact it finds the shortest path from every node to the node of origin."
      ]
    },
    {
      "cell_type": "code",
      "metadata": {
        "id": "Y9H5Y0wyfyOn"
      },
      "source": [
        "# use greedy algorithms to find the shortest routes\n",
        "depot_locations=optilandia_locations[optilandia_locations['is_depot']==True]\n",
        "depot_116_shortest_route=[]\n",
        "depot_124_shortest_route=[]\n",
        "depot_373_shortest_route=[]\n",
        "depot_523_shortest_route=[]\n",
        "depot_passed=[]\n",
        "depots_coords=[]\n",
        "depot_ids=[]\n",
        "lpg_customer_coords=[]\n",
        "for a,b in zip(depot_locations['x'],depot_locations['y']):\n",
        "    depots_coords.append(tuple((a,b)))\n",
        "    depot_ids.append(depot_locations['id'])\n",
        "for a,b in zip(lpg_customers['x'],lpg_customers['y']):\n",
        "    lpg_customer_coords.append(tuple((a,b)))\n",
        "depot_route=depots_coords+lpg_customer_coords\n",
        "for r in depot_route:\n",
        "    finish_1=49804.1667\n",
        "    finish_2=49955.8333\n",
        "    finish_3=49616.3889\n",
        "    finish_4=49581.9444\n",
        "    if finish_1 < r[0] and r[0] < finish_2:\n",
        "        finish_1=r[1]\n",
        "        depot_116_shortest_route.append(r)\n",
        "    elif finish_2 < r[0]:\n",
        "        finish_2=r[1]\n",
        "        depot_124_shortest_route.append(r)\n",
        "    elif finish_3 < r[0] and r[0] < finish_1 and r[0] < finish_2:\n",
        "        finish_3=r[1]\n",
        "        depot_373_shortest_route.append(r)\n",
        "    elif finish_4 > r[0] or finish_4 < r[0] and r[0] < finish_1 and r[0] < finish_2 and r[0] < finish_3:\n",
        "        finish_4=r[1]\n",
        "        depot_523_shortest_route.append(r)\n",
        "    else:\n",
        "        depot_passed.append(r)\n",
        "    "
      ],
      "execution_count": 10,
      "outputs": []
    },
    {
      "cell_type": "markdown",
      "metadata": {
        "id": "blf3WLb8bCgW"
      },
      "source": [
        "Here we have created costs functions"
      ]
    },
    {
      "cell_type": "code",
      "metadata": {
        "id": "5DysI5T6fyOq"
      },
      "source": [
        "# costs function\n",
        "depot_116_x=49804.1667\n",
        "depot_116_y=6253.8889\n",
        "depot_124_x=49955.8333\n",
        "depot_124_y=5924.7222\n",
        "depot_373_x=49616.3889\n",
        "depot_373_y=5990.2778\n",
        "depot_523_x=49581.9444\n",
        "depot_523_y=6226.6667\n",
        "depot_523_0=[] #5\n",
        "depot_523_1=[] #5,\n",
        "depot_523_2=[] #12,\n",
        "depot_523_3=[] #12,\n",
        "depot_523_4=[] #22,\n",
        "depot_124_0=[] #5,\n",
        "depot_124_1=[] #5,\n",
        "depot_124_2=[] #5,\n",
        "depot_124_3=[] #12,\n",
        "depot_124_4=[] #12,\n",
        "depot_124_5=[] #12,\n",
        "depot_124_6=[] #22,\n",
        "depot_124_7=[] #22,\n",
        "depot_373_0=[] #5,\n",
        "depot_373_1=[] #5,\n",
        "depot_373_2=[] #5,\n",
        "depot_373_3=[] #12,\n",
        "depot_373_4=[] #12,\n",
        "depot_373_5=[] #12,\n",
        "depot_373_6=[] #12,\n",
        "depot_373_7=[] #22,\n",
        "depot_373_8=[] #22,\n",
        "depot_373_9=[] #22,\n",
        "depot_116_0=[] #5,\n",
        "depot_116_1=[] #12\n",
        "depot_116_df=[]\n",
        "depot_124_df=[]\n",
        "depot_373_df=[]\n",
        "depot_523_df=[]"
      ],
      "execution_count": 11,
      "outputs": []
    },
    {
      "cell_type": "markdown",
      "metadata": {
        "id": "YzYqMT6zbLrr"
      },
      "source": [
        "Here we have used a loop to calculate and append the optimal routes.\n",
        "We have used this here linalg. Norm imported from numpy library.\n",
        "This function is able to return one of eight different matrix norms, or one of an infinite number of vector norms (described below), depending on the value of the word parameter.\n",
        "The norm is what is generally used to evaluate the error of a model. For instance it is used to calculate the error between the output of a neural network and what is expected (the actual label or value). You can think of the norm as the length of a vector. It is a function that maps a vector to a positive value.\n",
        "numpy. linalg. norm is used to calculate the norm of a vector or a matrix. It take order=None as default, so just to calculate the Frobenius norm of (a-b) , this is to calculate the distance between a and b( using the upper Formula).\n",
        "Solve a linear matrix equation, or system of linear scalar equations. ... Compute the (multiplicative) inverse of a matrix. linalg.pinv (a[, rcond, hermitian]) Compute the (Moore-Penrose) pseudo-inverse of a matrix.\n",
        "The set of vectors whose 1-norm is a given constant forms the surface of a cross polytope of dimension equivalent to that of the norm minus 1. The Taxicab norm is also called the 1 norm. The distance derived from this norm is called the Manhattan distance or 1. Distance.\n",
        "However it is possible to define something like that, in which case a vector whose norm is a hyperreal which is larger than all standard real numbers can be considered as having an infinite norm. Do note that this \"norm\" need not be compatible with the vector space structure, and a lot of modifications may be required.\n"
      ]
    },
    {
      "cell_type": "code",
      "metadata": {
        "id": "RqbeFPQJbOcp"
      },
      "source": [
        "for i in range(len(depot_116_shortest_route)):\n",
        "    depot_116_0.append((np.linalg.norm(np.array((depot_116_x,depot_116_y,0))-np.array((depot_116_shortest_route[i][0],depot_116_shortest_route[i][1],0))))*(1.00+5*1.50))\n",
        "    depot_116_1.append((np.linalg.norm(np.array((depot_116_x,depot_116_y,0))- np.array((depot_116_shortest_route[i][0],depot_116_shortest_route[i][1],0))))*(1.50+12*1.00))\n",
        "    depot_116_df.append(optilandia_locations[(optilandia_locations['x']==depot_116_shortest_route[i][0]) & (optilandia_locations['y'] == depot_116_shortest_route[i][1])] )\n",
        "for i in range(len(depot_124_shortest_route)):\n",
        "    depot_124_0.append((np.linalg.norm(np.array((depot_124_x,depot_124_y,0))-np.array((depot_124_shortest_route[i][0],depot_124_shortest_route[i][1],0))))*(1.00+5*1.50))\n",
        "    depot_124_1.append((np.linalg.norm(np.array((depot_124_x,depot_124_y,0))-np.array((depot_124_shortest_route[i][0],depot_124_shortest_route[i][1],0))))*(1.00+5*1.50))\n",
        "    depot_124_2.append((np.linalg.norm(np.array((depot_124_x,depot_124_y,0))-np.array((depot_124_shortest_route[i][0],depot_124_shortest_route[i][1],0))))*(1.00+5*1.50))\n",
        "    depot_124_3.append((np.linalg.norm(np.array((depot_124_x,depot_124_y,0))- np.array((depot_124_shortest_route[i][0],depot_124_shortest_route[i][1],0))))*(1.50+12*1.00))\n",
        "    depot_124_4.append((np.linalg.norm(np.array((depot_124_x,depot_124_y,0))- np.array((depot_124_shortest_route[i][0],depot_124_shortest_route[i][1],0))))*(1.50+12*1.00))\n",
        "    depot_124_5.append((np.linalg.norm(np.array((depot_124_x,depot_124_y,0))- np.array((depot_124_shortest_route[i][0],depot_124_shortest_route[i][1],0))))*(1.50+12*1.00))\n",
        "    depot_124_6.append((np.linalg.norm(np.array((depot_124_x,depot_124_y,0))- np.array((depot_124_shortest_route[i][0],depot_124_shortest_route[i][1],0))))*(2.00+22*0.50))\n",
        "    depot_124_7.append((np.linalg.norm(np.array((depot_124_x,depot_124_y,0))- np.array((depot_124_shortest_route[i][0],depot_124_shortest_route[i][1],0))))*(2.00+22*0.50))\n",
        "    depot_124_df.append(optilandia_locations[(optilandia_locations['x']==depot_124_shortest_route[i][0]) & (optilandia_locations['y'] == depot_124_shortest_route[i][1])] )\n",
        "for i in range(len(depot_373_shortest_route)):\n",
        "    depot_373_0.append((np.linalg.norm(np.array((depot_373_x,depot_373_y,0))-np.array((depot_373_shortest_route[i][0],depot_373_shortest_route[i][1],0))))*(1.00+5*1.50))\n",
        "    depot_373_1.append((np.linalg.norm(np.array((depot_373_x,depot_373_y,0))-np.array((depot_373_shortest_route[i][0],depot_373_shortest_route[i][1],0))))*(1.00+5*1.50))\n",
        "    depot_373_2.append((np.linalg.norm(np.array((depot_373_x,depot_373_y,0))-np.array((depot_373_shortest_route[i][0],depot_373_shortest_route[i][1],0))))*(1.00+5*1.50))\n",
        "    depot_373_3.append((np.linalg.norm(np.array((depot_373_x,depot_373_y,0))- np.array((depot_373_shortest_route[i][0],depot_373_shortest_route[i][1],0))))*(1.50+12*1.00))\n",
        "    depot_373_4.append((np.linalg.norm(np.array((depot_373_x,depot_373_y,0))- np.array((depot_373_shortest_route[i][0],depot_373_shortest_route[i][1],0))))*(1.50+12*1.00))\n",
        "    depot_373_5.append((np.linalg.norm(np.array((depot_373_x,depot_373_y,0))- np.array((depot_373_shortest_route[i][0],depot_373_shortest_route[i][1],0))))*(1.50+12*1.00))\n",
        "    depot_373_6.append((np.linalg.norm(np.array((depot_373_x,depot_373_y,0))- np.array((depot_373_shortest_route[i][0],depot_373_shortest_route[i][1],0))))*(1.50+12*0.50))\n",
        "    depot_373_7.append((np.linalg.norm(np.array((depot_373_x,depot_373_y,0))- np.array((depot_373_shortest_route[i][0],depot_373_shortest_route[i][1],0))))*(2.00+22*0.50))\n",
        "    depot_373_8.append((np.linalg.norm(np.array((depot_373_x,depot_373_y,0))- np.array((depot_373_shortest_route[i][0],depot_373_shortest_route[i][1],0))))*(2.00+22*0.50))\n",
        "    depot_373_9.append((np.linalg.norm(np.array((depot_373_x,depot_373_y,0))- np.array((depot_373_shortest_route[i][0],depot_373_shortest_route[i][1],0))))*(2.00+22*0.50))\n",
        "    depot_373_df.append(optilandia_locations[(optilandia_locations['x']==depot_373_shortest_route[i][0]) & (optilandia_locations['y'] == depot_373_shortest_route[i][1])] )\n",
        "for i in range(len(depot_523_shortest_route)):\n",
        "    depot_523_0.append((np.linalg.norm(np.array((depot_523_x,depot_523_y,0))-np.array((depot_523_shortest_route[i][0],depot_523_shortest_route[i][1],0))))*(1.00+5*1.50))\n",
        "    depot_523_1.append((np.linalg.norm(np.array((depot_523_x,depot_523_y,0))-np.array((depot_523_shortest_route[i][0],depot_523_shortest_route[i][1],0))))*(1.00+5*1.50))\n",
        "    depot_523_2.append((np.linalg.norm(np.array((depot_523_x,depot_523_y,0))-np.array((depot_523_shortest_route[i][0],depot_523_shortest_route[i][1],0))))*(1.50+12*1.00))\n",
        "    depot_523_3.append((np.linalg.norm(np.array((depot_523_x,depot_523_y,0))- np.array((depot_523_shortest_route[i][0],depot_523_shortest_route[i][1],0))))*(1.50+12*1.00))\n",
        "    depot_523_4.append((np.linalg.norm(np.array((depot_523_x,depot_523_y,0))- np.array((depot_523_shortest_route[i][0],depot_523_shortest_route[i][1],0))))*(2.00+22*0.50))\n",
        "    depot_523_df.append(optilandia_locations[(optilandia_locations['x']==depot_523_shortest_route[i][0]) & (optilandia_locations['y'] == depot_523_shortest_route[i][1])] )\n"
      ],
      "execution_count": null,
      "outputs": []
    },
    {
      "cell_type": "code",
      "metadata": {
        "id": "a6eXgyc7fyOs"
      },
      "source": [
        "costs=[\n",
        "    list(np.transpose(depot_116_0)),\n",
        "    list(np.transpose(depot_116_1)),\n",
        "    list(np.transpose(depot_124_0)),\n",
        "    list(np.transpose(depot_124_1)),\n",
        "    list(np.transpose(depot_124_2)),\n",
        "    list(np.transpose(depot_124_3)),\n",
        "    list(np.transpose(depot_124_4)),\n",
        "    list(np.transpose(depot_124_5)),\n",
        "    list(np.transpose(depot_124_6)),\n",
        "    list(np.transpose(depot_124_7)),\n",
        "    list(np.transpose(depot_373_0)),\n",
        "    list(np.transpose(depot_373_1)),\n",
        "    list(np.transpose(depot_373_2)),\n",
        "    list(np.transpose(depot_373_3)),\n",
        "    list(np.transpose(depot_373_4)),\n",
        "    list(np.transpose(depot_373_5)),\n",
        "    list(np.transpose(depot_373_6)),\n",
        "    list(np.transpose(depot_373_7)),\n",
        "    list(np.transpose(depot_373_8)),\n",
        "    list(np.transpose(depot_373_9)),\n",
        "    list(np.transpose(depot_523_0)),\n",
        "    list(np.transpose(depot_523_1)),\n",
        "    list(np.transpose(depot_523_2)),\n",
        "    list(np.transpose(depot_523_3)),\n",
        "    list(np.transpose(depot_523_4)),\n",
        "]"
      ],
      "execution_count": 12,
      "outputs": []
    },
    {
      "cell_type": "markdown",
      "metadata": {
        "id": "O8gRW3hFbW4M"
      },
      "source": [
        "Here The cost data is made into a dictionary"
      ]
    },
    {
      "cell_type": "code",
      "metadata": {
        "id": "IL9JNf-cfyOs"
      },
      "source": [
        "# The cost data is made into a dictionary\n",
        "costs = makeDict([Depots,lpg_customers_nodes],costs,0)"
      ],
      "execution_count": 13,
      "outputs": []
    },
    {
      "cell_type": "markdown",
      "metadata": {
        "id": "LGyvHUJMbfO8"
      },
      "source": [
        "Here we have created the 'prob' variable to contain the problem data\n",
        "Here we have used LpProblem which is class from pulp library,\n",
        "PuLP is an open source linear programming package for python. ... PuLP supports open source linear programming solvers such as CBC and GLPK, as well as commercial solvers such as Gurobi and IBM's CPLEX. The default solver is CBC, which comes packaged with PuLP upon installation.\n",
        "\n",
        "This function creates a new LP Problem with the specified associated parameters\n",
        "A linear combination of LpVariables. Can be initialised with the following:\n",
        "\n",
        "    e = None: an empty Expression\n",
        "    e = dict: gives an expression with the values being the coefficients of the keys (order of terms is undetermined)\n",
        "    e = list or generator of 2-tuples: equivalent to dict.items()\n",
        "    e = LpElement: an expression of length 1 with the coefficient 1\n",
        "    e = other: the constant is initialised as e\n"
      ]
    },
    {
      "cell_type": "code",
      "metadata": {
        "colab": {
          "base_uri": "https://localhost:8080/"
        },
        "id": "dWY0jupQfyOt",
        "outputId": "c37ac01d-e10d-43d1-e5db-393cecb090c5"
      },
      "source": [
        "# Creates the 'prob' variable to contain the problem data\n",
        "prob = LpProblem(\"LPG Delivery Scheduling\",LpMinimize)"
      ],
      "execution_count": 14,
      "outputs": [
        {
          "output_type": "stream",
          "text": [
            "/usr/local/lib/python3.7/dist-packages/pulp/pulp.py:1199: UserWarning: Spaces are not permitted in the name. Converted to '_'\n",
            "  warnings.warn(\"Spaces are not permitted in the name. Converted to '_'\")\n"
          ],
          "name": "stderr"
        }
      ]
    },
    {
      "cell_type": "markdown",
      "metadata": {
        "id": "fyI3MIlcbjNT"
      },
      "source": [
        "Here we have created a list of tuples containing all the possible routes for transport"
      ]
    },
    {
      "cell_type": "code",
      "metadata": {
        "id": "lDgyr2TefyOw"
      },
      "source": [
        "# Creates a list of tuples containing all the possible routes for transport\n",
        "Routes = [(w,b) for w in Depots for b in lpg_customers_nodes]"
      ],
      "execution_count": 15,
      "outputs": []
    },
    {
      "cell_type": "markdown",
      "metadata": {
        "id": "nFbTn1zAblX4"
      },
      "source": [
        "Here a dictionary called 'Vars' is created to contain the referenced variables(the routes)\n",
        "Using LpVariable.dicts() LpVariable(name, indexs, lowBound=None, upBound=None, cat='Continuous') name = The pre x to the name of each LP variable created. indexs = A list of strings of the keys to the dictionary of LP variables.\n"
      ]
    },
    {
      "cell_type": "code",
      "metadata": {
        "id": "lzXToiFofyOx"
      },
      "source": [
        "# A dictionary called 'Vars' is created to contain the referenced variables(the routes)\n",
        "vars = LpVariable.dicts(\"Route\",(Depots,lpg_customers_nodes),0,None,LpInteger)"
      ],
      "execution_count": 16,
      "outputs": []
    },
    {
      "cell_type": "markdown",
      "metadata": {
        "id": "WkU4NzbtbndO"
      },
      "source": [
        "Here the cost function is added to 'prob' first"
      ]
    },
    {
      "cell_type": "code",
      "metadata": {
        "id": "wD2b8yIkfyO0"
      },
      "source": [
        "# The cost function is added to 'prob' first\n",
        "prob += lpSum([vars[w][b]*costs[w][b] for (w,b) in Routes]), \"Sum_of_Transporting_Costs\""
      ],
      "execution_count": 17,
      "outputs": []
    },
    {
      "cell_type": "markdown",
      "metadata": {
        "id": "GUaXiieYbpPX"
      },
      "source": [
        "Here the supply maximum constraints are added to prob for each supply node (warehouse)"
      ]
    },
    {
      "cell_type": "code",
      "metadata": {
        "id": "yYzGBFbefyO0"
      },
      "source": [
        "# The supply maximum constraints are added to prob for each supply node (warehouse)\n",
        "for w in Depots:\n",
        "    prob += lpSum([vars[w][b] for b in lpg_customers_nodes])<=supply[w], \"Sum_of_Products_out_of_Depots_%s\"%w\n"
      ],
      "execution_count": 18,
      "outputs": []
    },
    {
      "cell_type": "markdown",
      "metadata": {
        "id": "FIqZGcgjbsWk"
      },
      "source": [
        "Here the demand minimum constraints are added to prob for each demand node (bar)"
      ]
    },
    {
      "cell_type": "code",
      "metadata": {
        "id": "Wit6_-dWbry2"
      },
      "source": [
        "# The demand minimum constraints are added to prob for each demand node (bar)\n",
        "for b in lpg_customers_nodes:\n",
        "    prob += lpSum([vars[w][b] for w in Depots])>=demand[b], \"Sum_of_Products_into_Customer%s\"%b"
      ],
      "execution_count": null,
      "outputs": []
    },
    {
      "cell_type": "markdown",
      "metadata": {
        "id": "BhPjsnQlbyvY"
      },
      "source": [
        "Here we have printed the prob variable with the solve function."
      ]
    },
    {
      "cell_type": "code",
      "metadata": {
        "colab": {
          "base_uri": "https://localhost:8080/"
        },
        "id": "zmQfT3jPfyO0",
        "outputId": "dc421558-7404-488b-f9aa-6c717c1b215c"
      },
      "source": [
        "prob.solve()"
      ],
      "execution_count": 20,
      "outputs": [
        {
          "output_type": "execute_result",
          "data": {
            "text/plain": [
              "-1"
            ]
          },
          "metadata": {
            "tags": []
          },
          "execution_count": 20
        }
      ]
    },
    {
      "cell_type": "markdown",
      "metadata": {
        "id": "D8XeVJ-7b21p"
      },
      "source": [
        "Here we have calculated the optimal solution"
      ]
    },
    {
      "cell_type": "code",
      "metadata": {
        "id": "M2eYJjaLfyO1"
      },
      "source": [
        "optimal_solution={}\n",
        "optimal_solution_name=[]\n",
        "optimal_solution_value=[]\n",
        "for v in prob.variables():\n",
        "    if v.varValue is not None and v.varValue > 0:\n",
        "        optimal_solution_name.append(v.name)\n",
        "        optimal_solution_value.append(v.varValue)\n",
        "        optimal_solution.update({v.name:v.varValue})"
      ],
      "execution_count": 21,
      "outputs": []
    },
    {
      "cell_type": "code",
      "metadata": {
        "id": "6bg5LqAafyO1"
      },
      "source": [
        "optimal_route_name=[]\n",
        "optimal_customer=[]\n",
        "locations_=[]\n",
        "results=[]\n",
        "for i in range(len(optimal_solution_name)):\n",
        "#     optimal_route.update({optimal_solution_name[i][6:11]:optimal_solution_name[i][12:16]})\n",
        "        if optimal_solution_name[i][6:11]==optimal_solution_name[i][6:11]:\n",
        "            locations_.append(optilandia_locations[optilandia_locations['id']==int(optimal_solution_name[i][12:16])])\n",
        "            optimal_route_name.append(optimal_solution_name[i][6:11])\n",
        "            optimal_customer.append([optimal_solution_name[i][12:16],optimal_solution_value[i]])\n",
        "\n",
        "for i in range(len(locations_)):\n",
        "    results.append([optimal_solution_name[i][6:11],[[optimal_solution_name[i][12:16],-(locations_[i]['capacity']-locations_[i]['level'])]]])\n",
        "            "
      ],
      "execution_count": 22,
      "outputs": []
    },
    {
      "cell_type": "markdown",
      "metadata": {
        "id": "mDfFFdjkb5wu"
      },
      "source": [
        "Here we have giving the column name to our generated dataframe"
      ]
    },
    {
      "cell_type": "code",
      "metadata": {
        "id": "Hv7Pq7mffyO2"
      },
      "source": [
        "df=pd.DataFrame(results,columns=['lorry_id','loc'])"
      ],
      "execution_count": 92,
      "outputs": []
    },
    {
      "cell_type": "code",
      "metadata": {
        "colab": {
          "base_uri": "https://localhost:8080/",
          "height": 424
        },
        "id": "tOxRG4w-Pyuh",
        "outputId": "664daee7-266d-48ed-e25f-946f9794ae2d"
      },
      "source": [
        "df"
      ],
      "execution_count": 93,
      "outputs": [
        {
          "output_type": "execute_result",
          "data": {
            "text/html": [
              "<div>\n",
              "<style scoped>\n",
              "    .dataframe tbody tr th:only-of-type {\n",
              "        vertical-align: middle;\n",
              "    }\n",
              "\n",
              "    .dataframe tbody tr th {\n",
              "        vertical-align: top;\n",
              "    }\n",
              "\n",
              "    .dataframe thead th {\n",
              "        text-align: right;\n",
              "    }\n",
              "</style>\n",
              "<table border=\"1\" class=\"dataframe\">\n",
              "  <thead>\n",
              "    <tr style=\"text-align: right;\">\n",
              "      <th></th>\n",
              "      <th>lorry_id</th>\n",
              "      <th>loc</th>\n",
              "    </tr>\n",
              "  </thead>\n",
              "  <tbody>\n",
              "    <tr>\n",
              "      <th>0</th>\n",
              "      <td>117_0</td>\n",
              "      <td>[[215, [-0.6100000000000001]]]</td>\n",
              "    </tr>\n",
              "    <tr>\n",
              "      <th>1</th>\n",
              "      <td>117_0</td>\n",
              "      <td>[[279, [-1.23]]]</td>\n",
              "    </tr>\n",
              "    <tr>\n",
              "      <th>2</th>\n",
              "      <td>117_0</td>\n",
              "      <td>[[297, [-1.03]]]</td>\n",
              "    </tr>\n",
              "    <tr>\n",
              "      <th>3</th>\n",
              "      <td>117_0</td>\n",
              "      <td>[[357, [-0.83]]]</td>\n",
              "    </tr>\n",
              "    <tr>\n",
              "      <th>4</th>\n",
              "      <td>117_0</td>\n",
              "      <td>[[503, [-0.3700000000000001]]]</td>\n",
              "    </tr>\n",
              "    <tr>\n",
              "      <th>...</th>\n",
              "      <td>...</td>\n",
              "      <td>...</td>\n",
              "    </tr>\n",
              "    <tr>\n",
              "      <th>120</th>\n",
              "      <td>522_2</td>\n",
              "      <td>[[630, [-0.57]]]</td>\n",
              "    </tr>\n",
              "    <tr>\n",
              "      <th>121</th>\n",
              "      <td>522_2</td>\n",
              "      <td>[[64, [-0.20999999999999996]]]</td>\n",
              "    </tr>\n",
              "    <tr>\n",
              "      <th>122</th>\n",
              "      <td>522_2</td>\n",
              "      <td>[[7, [-0.29000000000000004]]]</td>\n",
              "    </tr>\n",
              "    <tr>\n",
              "      <th>123</th>\n",
              "      <td>522_2</td>\n",
              "      <td>[[71, [-0.84]]]</td>\n",
              "    </tr>\n",
              "    <tr>\n",
              "      <th>124</th>\n",
              "      <td>522_2</td>\n",
              "      <td>[[87, [-1.43]]]</td>\n",
              "    </tr>\n",
              "  </tbody>\n",
              "</table>\n",
              "<p>125 rows × 2 columns</p>\n",
              "</div>"
            ],
            "text/plain": [
              "    lorry_id                             loc\n",
              "0      117_0  [[215, [-0.6100000000000001]]]\n",
              "1      117_0                [[279, [-1.23]]]\n",
              "2      117_0                [[297, [-1.03]]]\n",
              "3      117_0                [[357, [-0.83]]]\n",
              "4      117_0  [[503, [-0.3700000000000001]]]\n",
              "..       ...                             ...\n",
              "120    522_2                [[630, [-0.57]]]\n",
              "121    522_2  [[64, [-0.20999999999999996]]]\n",
              "122    522_2   [[7, [-0.29000000000000004]]]\n",
              "123    522_2                 [[71, [-0.84]]]\n",
              "124    522_2                 [[87, [-1.43]]]\n",
              "\n",
              "[125 rows x 2 columns]"
            ]
          },
          "metadata": {
            "tags": []
          },
          "execution_count": 93
        }
      ]
    },
    {
      "cell_type": "markdown",
      "metadata": {
        "id": "OOHizPZ9cAfl"
      },
      "source": [
        "Here we are doing the groupby of lorry ids and them sum of those ids"
      ]
    },
    {
      "cell_type": "code",
      "metadata": {
        "id": "a2LAkgAcfyO3"
      },
      "source": [
        "solution=df.groupby([\"lorry_id\"], as_index=False, sort=False).sum()"
      ],
      "execution_count": 111,
      "outputs": []
    },
    {
      "cell_type": "code",
      "metadata": {
        "id": "Cl7qPI6ufyO3"
      },
      "source": [
        "solution[\"lorry_id\"] = solution[\"lorry_id\"].str.replace(\"_\",\"-\")"
      ],
      "execution_count": 117,
      "outputs": []
    },
    {
      "cell_type": "markdown",
      "metadata": {
        "id": "M1lu3vYFcCjE"
      },
      "source": [
        "Here we have printed the solution."
      ]
    },
    {
      "cell_type": "code",
      "metadata": {
        "colab": {
          "base_uri": "https://localhost:8080/",
          "height": 363
        },
        "id": "PA0GO1zEZAq9",
        "outputId": "d64ff79f-b74f-40bc-ca04-8ef2e1b1aaad"
      },
      "source": [
        "solution"
      ],
      "execution_count": 118,
      "outputs": [
        {
          "output_type": "execute_result",
          "data": {
            "text/html": [
              "<div>\n",
              "<style scoped>\n",
              "    .dataframe tbody tr th:only-of-type {\n",
              "        vertical-align: middle;\n",
              "    }\n",
              "\n",
              "    .dataframe tbody tr th {\n",
              "        vertical-align: top;\n",
              "    }\n",
              "\n",
              "    .dataframe thead th {\n",
              "        text-align: right;\n",
              "    }\n",
              "</style>\n",
              "<table border=\"1\" class=\"dataframe\">\n",
              "  <thead>\n",
              "    <tr style=\"text-align: right;\">\n",
              "      <th></th>\n",
              "      <th>lorry_id</th>\n",
              "      <th>loc</th>\n",
              "    </tr>\n",
              "  </thead>\n",
              "  <tbody>\n",
              "    <tr>\n",
              "      <th>0</th>\n",
              "      <td>117-0</td>\n",
              "      <td>[[215, [-0.6100000000000001]], [279, [-1.23]],...</td>\n",
              "    </tr>\n",
              "    <tr>\n",
              "      <th>1</th>\n",
              "      <td>117-1</td>\n",
              "      <td>[[196, [-0.48]], [254, [-0.4099999999999999]],...</td>\n",
              "    </tr>\n",
              "    <tr>\n",
              "      <th>2</th>\n",
              "      <td>125-0</td>\n",
              "      <td>[[141, [-0.79]], [15, [-0.22999999999999998]],...</td>\n",
              "    </tr>\n",
              "    <tr>\n",
              "      <th>3</th>\n",
              "      <td>125-1</td>\n",
              "      <td>[[10, [-1.2]], [129, [-0.94]], [149, [-0.31999...</td>\n",
              "    </tr>\n",
              "    <tr>\n",
              "      <th>4</th>\n",
              "      <td>125-2</td>\n",
              "      <td>[[170, [-0.54]], [176, [-0.6599999999999999]],...</td>\n",
              "    </tr>\n",
              "    <tr>\n",
              "      <th>5</th>\n",
              "      <td>372-0</td>\n",
              "      <td>[[170, [-0.54]], [198, [-1.38]], [476, [-0.56]...</td>\n",
              "    </tr>\n",
              "    <tr>\n",
              "      <th>6</th>\n",
              "      <td>372-1</td>\n",
              "      <td>[[193, [-0.81]], [209, [-0.56]], [243, [-0.93]...</td>\n",
              "    </tr>\n",
              "    <tr>\n",
              "      <th>7</th>\n",
              "      <td>522-0</td>\n",
              "      <td>[[130, [-0.97]], [140, [-0.09000000000000002]]...</td>\n",
              "    </tr>\n",
              "    <tr>\n",
              "      <th>8</th>\n",
              "      <td>522-1</td>\n",
              "      <td>[[264, [-0.22999999999999998]], [327, [-1.88]]...</td>\n",
              "    </tr>\n",
              "    <tr>\n",
              "      <th>9</th>\n",
              "      <td>522-2</td>\n",
              "      <td>[[126, [-0.22999999999999998]], [144, [-0.76]]...</td>\n",
              "    </tr>\n",
              "  </tbody>\n",
              "</table>\n",
              "</div>"
            ],
            "text/plain": [
              "  lorry_id                                                loc\n",
              "0    117-0  [[215, [-0.6100000000000001]], [279, [-1.23]],...\n",
              "1    117-1  [[196, [-0.48]], [254, [-0.4099999999999999]],...\n",
              "2    125-0  [[141, [-0.79]], [15, [-0.22999999999999998]],...\n",
              "3    125-1  [[10, [-1.2]], [129, [-0.94]], [149, [-0.31999...\n",
              "4    125-2  [[170, [-0.54]], [176, [-0.6599999999999999]],...\n",
              "5    372-0  [[170, [-0.54]], [198, [-1.38]], [476, [-0.56]...\n",
              "6    372-1  [[193, [-0.81]], [209, [-0.56]], [243, [-0.93]...\n",
              "7    522-0  [[130, [-0.97]], [140, [-0.09000000000000002]]...\n",
              "8    522-1  [[264, [-0.22999999999999998]], [327, [-1.88]]...\n",
              "9    522-2  [[126, [-0.22999999999999998]], [144, [-0.76]]..."
            ]
          },
          "metadata": {
            "tags": []
          },
          "execution_count": 118
        }
      ]
    },
    {
      "cell_type": "code",
      "metadata": {
        "id": "7u9SExV5LOEi"
      },
      "source": [
        "# storing the data in JSON format\n",
        "solution.to_json('/content/output.json', orient = 'split', compression = 'infer', index = 'true')"
      ],
      "execution_count": 119,
      "outputs": []
    },
    {
      "cell_type": "markdown",
      "metadata": {
        "id": "cGucsspmcKg5"
      },
      "source": [
        "Here we have printed the example solution that is given by the professor."
      ]
    },
    {
      "cell_type": "code",
      "metadata": {
        "colab": {
          "base_uri": "https://localhost:8080/",
          "height": 363
        },
        "id": "jvWCRbgmfyO4",
        "outputId": "88a0e02e-b920-45ec-81b3-3aff754d64f9"
      },
      "source": [
        "optilandia_example_sol"
      ],
      "execution_count": 27,
      "outputs": [
        {
          "output_type": "execute_result",
          "data": {
            "text/html": [
              "<div>\n",
              "<style scoped>\n",
              "    .dataframe tbody tr th:only-of-type {\n",
              "        vertical-align: middle;\n",
              "    }\n",
              "\n",
              "    .dataframe tbody tr th {\n",
              "        vertical-align: top;\n",
              "    }\n",
              "\n",
              "    .dataframe thead th {\n",
              "        text-align: right;\n",
              "    }\n",
              "</style>\n",
              "<table border=\"1\" class=\"dataframe\">\n",
              "  <thead>\n",
              "    <tr style=\"text-align: right;\">\n",
              "      <th></th>\n",
              "      <th>lorry_id</th>\n",
              "      <th>loc</th>\n",
              "    </tr>\n",
              "  </thead>\n",
              "  <tbody>\n",
              "    <tr>\n",
              "      <th>0</th>\n",
              "      <td>522-0</td>\n",
              "      <td>[[522, 4], [10, -1.2], [522, 0]]</td>\n",
              "    </tr>\n",
              "    <tr>\n",
              "      <th>1</th>\n",
              "      <td>125-0</td>\n",
              "      <td>[[125, 4], [595, -0.099999999999999], [469, -0...</td>\n",
              "    </tr>\n",
              "    <tr>\n",
              "      <th>2</th>\n",
              "      <td>117-0</td>\n",
              "      <td>[[117, 4], [117, 0]]</td>\n",
              "    </tr>\n",
              "    <tr>\n",
              "      <th>3</th>\n",
              "      <td>372-0</td>\n",
              "      <td>[[372, 4], [369, -0.459999999999999], [372, 0]]</td>\n",
              "    </tr>\n",
              "    <tr>\n",
              "      <th>4</th>\n",
              "      <td>522-1</td>\n",
              "      <td>[[522, 4], [627, -0.51], [522, 0]]</td>\n",
              "    </tr>\n",
              "    <tr>\n",
              "      <th>5</th>\n",
              "      <td>125-1</td>\n",
              "      <td>[[125, 11], [580, -0.169999999999999], [125, 0]]</td>\n",
              "    </tr>\n",
              "    <tr>\n",
              "      <th>6</th>\n",
              "      <td>117-1</td>\n",
              "      <td>[[117, 11], [117, 0]]</td>\n",
              "    </tr>\n",
              "    <tr>\n",
              "      <th>7</th>\n",
              "      <td>372-1</td>\n",
              "      <td>[[372, 11], [372, 0]]</td>\n",
              "    </tr>\n",
              "    <tr>\n",
              "      <th>8</th>\n",
              "      <td>522-2</td>\n",
              "      <td>[[522, 24], [522, 0]]</td>\n",
              "    </tr>\n",
              "    <tr>\n",
              "      <th>9</th>\n",
              "      <td>125-2</td>\n",
              "      <td>[[125, 11], [125, 0]]</td>\n",
              "    </tr>\n",
              "  </tbody>\n",
              "</table>\n",
              "</div>"
            ],
            "text/plain": [
              "  lorry_id                                                loc\n",
              "0    522-0                   [[522, 4], [10, -1.2], [522, 0]]\n",
              "1    125-0  [[125, 4], [595, -0.099999999999999], [469, -0...\n",
              "2    117-0                               [[117, 4], [117, 0]]\n",
              "3    372-0    [[372, 4], [369, -0.459999999999999], [372, 0]]\n",
              "4    522-1                 [[522, 4], [627, -0.51], [522, 0]]\n",
              "5    125-1   [[125, 11], [580, -0.169999999999999], [125, 0]]\n",
              "6    117-1                              [[117, 11], [117, 0]]\n",
              "7    372-1                              [[372, 11], [372, 0]]\n",
              "8    522-2                              [[522, 24], [522, 0]]\n",
              "9    125-2                              [[125, 11], [125, 0]]"
            ]
          },
          "metadata": {
            "tags": []
          },
          "execution_count": 27
        }
      ]
    },
    {
      "cell_type": "markdown",
      "metadata": {
        "id": "4klkHRWvcVKh"
      },
      "source": [
        "**Experiments & discussion:**\n",
        "\n",
        "Basically we have used greedy algorithm to find the shortest routes, Greedy is an algorithmic paradigm that builds up a solution piece by piece, always choosing the next piece that offers the most obvious and immediate benefit. So the problems where choosing locally optimal also leads to global solution are best fit for Greedy. For example consider the Fractional Knapsack Problem\n",
        "we have tried Genetic Algorithms & Ant Colony Optimisation algorithms also as per suggested, But those algorithms took too much time to learn. At the end we discuss and decide to develop our own model with the help of greedy algorithms.\n",
        "Route optimization is the process of determining the shortest possible routes to reach a location. This methodology has gained popularity in the transport and logistics industry. Since it reduces the time spent traveling and at the same time reduces the incurred cost in the process.\n",
        "\n",
        "Before a company or an organization can employ this strategy, it has to first be able to document all of its routes of business after which experts can then use the provided data to predict the best possible routes.\n",
        "\n",
        "In the course of determining the best possible routes, there is usually a simulation of different scenarios. And ever since route optimization has gone digital with lots of software available today, the prediction of these routes is now done using the route optimization algorithm.\n",
        "\n",
        "To solve an optimization problem, begin by drawing a picture and introducing variables. Find an equation relating the variables. Find a function of one variable to describe the quantity that is to be minimized or maximized. Look for critical points to locate local extrema.\n",
        "\n",
        "To better appreciate and understand what route optimization algorithm is expected to solve, knowledge of vehicle routing problem is important.\n",
        "\n",
        "To solve optimization problem there are default steps,\n",
        "\n",
        "    Import the required libraries.\n",
        "    Declare the solver.\n",
        "    Create the variables.\n",
        "    Define the constraints.\n",
        "    Define the objective function.\n",
        "    Invoke the solver and display the results.\n"
      ]
    },
    {
      "cell_type": "markdown",
      "metadata": {
        "id": "XFMR17zzca_s"
      },
      "source": [
        "**Conclusion and References:**\n",
        "\n",
        "As a conclusion we have found out the better root in a very fast and easy manner using greedy algorithms, we have tried Genetic Algorithms & Ant Colony Optimisation algorithms also as per suggested, But those algorithms took too much time to learn. At the end we discuss and decide to develop our own model with the help of greedy algorithms.\n",
        "\n",
        "\n",
        "1. https://brilliant.org/wiki/greedy-algorithm/\n",
        "2. https://towardsdatascience.com/improving-operations-with-route-optimization-4b8a3701ca39\n",
        "3. https://towardsdatascience.com/travel-time-optimization-with-machine-learning-and-genetic-algorithm-71b40a3a4c2\n",
        "4. https://developers.google.com/optimization/routing/vrp\n",
        "5. https://gsmtasks.com/route-optimization-algorithm-and-big-data/"
      ]
    }
  ]
}